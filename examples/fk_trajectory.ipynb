{
 "cells": [
  {
   "cell_type": "markdown",
   "id": "eddb3214-64fb-4912-a879-c06418bb81ff",
   "metadata": {},
   "source": [
    "# Perform forward kinematics with a trajectory"
   ]
  },
  {
   "cell_type": "markdown",
   "id": "9f976dd9-cc4f-4130-933a-a74e6d46d717",
   "metadata": {},
   "source": [
    "In this notebook, we are going to generate a short video for a random robot movement you can watch in your browser.\n",
    "\n",
    "First of all, we need some modules. You can create some simple modules built from geometric primitives yourself - there is a distinct tutorial to that purpose. If you don't want to, we can use the set of simple modules provided with the timor source code:"
   ]
  },
  {
   "cell_type": "code",
   "execution_count": 13,
   "id": "a67e4d4d-33b5-42f6-8f95-648124867aa3",
   "metadata": {},
   "outputs": [],
   "source": [
    "from pathlib import Path\n",
    "\n",
    "# provide your own filepaths if you already did the module generation tutorial:\n",
    "your_modules_json = Path('')\n",
    "your_assets_directory = Path('')\n",
    "\n",
    "if your_modules_json == Path(''):\n",
    "    from timor.utilities.file_locations import get_module_db_files\n",
    "    modules_file = get_module_db_files('geometric_primitive_modules')"
   ]
  },
  {
   "cell_type": "code",
   "execution_count": 14,
   "id": "fdad6ede-6956-4d5e-b288-695b9bae384c",
   "metadata": {},
   "outputs": [
    {
     "name": "stdout",
     "output_type": "stream",
     "text": [
      "{'Revolute Joint': <timor.Module.AtomicModule object at 0x7f97c8f82020>, 'I shaped link 0.08-0.08-15': <timor.Module.AtomicModule object at 0x7f97c8e114b0>, 'I shaped link 0.08-0.08-45': <timor.Module.AtomicModule object at 0x7f97c90192d0>, 'L shaped link 0.1-0.08-15': <timor.Module.AtomicModule object at 0x7f97c901a0b0>, 'L shaped link 0.1-0.08-30': <timor.Module.AtomicModule object at 0x7f97c901a470>, 'Base': <timor.Module.AtomicModule object at 0x7f97c8fe2620>, 'Prismatic Joint': <timor.Module.AtomicModule object at 0x7f97c8e838e0>, 'L shaped link 0.1-0.08-45': <timor.Module.AtomicModule object at 0x7f97c901de70>, 'I shaped link 0.08-0.08-30': <timor.Module.AtomicModule object at 0x7f97caa9a410>, 'Demo EEF': <timor.Module.AtomicModule object at 0x7f97c8f59bd0>}\n",
      "{'J2': <timor.Module.AtomicModule object at 0x7f97c8f82020>, 'i_15': <timor.Module.AtomicModule object at 0x7f97c8e114b0>, 'i_45': <timor.Module.AtomicModule object at 0x7f97c90192d0>, 'l_15': <timor.Module.AtomicModule object at 0x7f97c901a0b0>, 'l_30': <timor.Module.AtomicModule object at 0x7f97c901a470>, 'base': <timor.Module.AtomicModule object at 0x7f97c8fe2620>, 'J1': <timor.Module.AtomicModule object at 0x7f97c8e838e0>, 'l_45': <timor.Module.AtomicModule object at 0x7f97c901de70>, 'i_30': <timor.Module.AtomicModule object at 0x7f97caa9a410>, 'eef': <timor.Module.AtomicModule object at 0x7f97c8f59bd0>}\n"
     ]
    }
   ],
   "source": [
    "import numpy as np\n",
    "import timor\n",
    "from timor.Module import *\n",
    "from timor.utilities.visualization import animation, MeshcatVisualizerWithAnimation\n",
    "\n",
    "#create the DB object\n",
    "db = ModulesDB.from_json_file(modules_file)\n",
    "\n",
    "#print out available modules in DB\n",
    "print(db.by_name)\n",
    "print(db.by_id)\n",
    "# print(db.all_joints)\n",
    "# print(db.all_connectors)\n"
   ]
  },
  {
   "cell_type": "code",
   "execution_count": 15,
   "id": "8758b6d2",
   "metadata": {},
   "outputs": [
    {
     "name": "stdout",
     "output_type": "stream",
     "text": [
      "You can open the visualizer by visiting the following URL:\n",
      "http://127.0.0.1:7007/static/\n"
     ]
    },
    {
     "data": {
      "text/html": [
       "\n",
       "            <div style=\"height: 400px; width: 100%; overflow-x: auto; overflow-y: hidden; resize: both\">\n",
       "            <iframe src=\"http://127.0.0.1:7007/static/\" style=\"width: 100%; height: 100%; border: none\"></iframe>\n",
       "            </div>\n",
       "            "
      ],
      "text/plain": [
       "<IPython.core.display.HTML object>"
      ]
     },
     "execution_count": 15,
     "metadata": {},
     "output_type": "execute_result"
    }
   ],
   "source": [
    "#contains IDs we care about. The order is arbitrary, but if we want to make a robot out of this (i.e. kinematic tree) we should put in order.\n",
    "modules = ('base', 'J2', 'i_45', 'J2', 'J2', 'eef')\n",
    "A = ModuleAssembly.from_serial_modules(db, modules)\n",
    "robot = A.to_pin_robot() #convert to pinocchio robot\n",
    "\n",
    "viz = robot.visualize()\n",
    "viz.viewer.jupyter_cell(height=400) # generate a jupyter cell to visualize the robot"
   ]
  },
  {
   "cell_type": "code",
   "execution_count": 16,
   "id": "0f27318e",
   "metadata": {},
   "outputs": [
    {
     "name": "stdout",
     "output_type": "stream",
     "text": [
      "Robot has 3 joints.\n",
      "Robot joint state min limits:  [-3.14159265 -3.14159265 -3.14159265]\n",
      "Robot joint state max limits:  [3.14159265 3.14159265 3.14159265]\n",
      "New joint state set to [5.0]\n",
      "You can open the visualizer by visiting the following URL:\n",
      "http://127.0.0.1:7008/static/\n"
     ]
    },
    {
     "data": {
      "text/html": [
       "\n",
       "            <div style=\"height: 400px; width: 100%; overflow-x: auto; overflow-y: hidden; resize: both\">\n",
       "            <iframe src=\"http://127.0.0.1:7008/static/\" style=\"width: 100%; height: 100%; border: none\"></iframe>\n",
       "            </div>\n",
       "            "
      ],
      "text/plain": [
       "<IPython.core.display.HTML object>"
      ]
     },
     "execution_count": 16,
     "metadata": {},
     "output_type": "execute_result"
    }
   ],
   "source": [
    "\n",
    "#initial, final states\n",
    "q0 = np.zeros((robot.dof,))\n",
    "print(f\"Robot has {robot.dof} joints.\")\n",
    "print(\"Robot joint state min limits: \", robot.joint_limits[0])\n",
    "print(\"Robot joint state max limits: \", robot.joint_limits[1])\n",
    "\n",
    "q1 = [float(x) for x in input(\"Put in a new joint state: \").split(' ')]\n",
    "print(f\"New joint state set to {q1}\")\n",
    "# q1 = robot.random_configuration()\n",
    "\n",
    "#make a constant-time trajectory\n",
    "trajectory = np.linspace(q0, q1)\n",
    "\n",
    "#create animation - https://timor-python.readthedocs.io/en/stable/autoapi/timor/utilities/visualization/index.html#timor.utilities.visualization.animation\n",
    "viz_A = animation(robot, trajectory, dt=.1)\n",
    "viz_A.viewer.jupyter_cell(height=400) # generate a jupyter cell to visualize the robot"
   ]
  },
  {
   "cell_type": "code",
   "execution_count": 17,
   "id": "55f15230-d2a2-430c-8234-a4c99949610f",
   "metadata": {},
   "outputs": [
    {
     "name": "stdout",
     "output_type": "stream",
     "text": [
      "Robot end effector coordinate transform at joint state [ 3.14159265 -1.57079633  1.57079633] [[-0.    1.   -0.    0.5 ]\n",
      " [-0.   -0.   -1.   -0.19]\n",
      " [-1.   -0.    0.    0.8 ]\n",
      " [ 0.    0.    0.    1.  ]]\n",
      "Robot joint coordinate transfom at joint state [ 3.14159265 -1.57079633  1.57079633] ([[ 1.    0.    0.    0.2 ]\n",
      " [-0.    1.    0.   -0.  ]\n",
      " [ 0.   -0.    1.    0.05]\n",
      " [ 0.    0.    0.    1.  ]], [[-0.   0.   1.   0.2]\n",
      " [-1.  -0.  -0.   0. ]\n",
      " [ 0.  -1.   0.   0.8]\n",
      " [ 0.   0.   0.   1. ]], [[-0.   1.  -0.   0.5]\n",
      " [-0.  -0.  -1.   0. ]\n",
      " [-1.  -0.   0.   0.8]\n",
      " [ 0.   0.   0.   1. ]])\n",
      "Robot full frames coordinate transfom at joint state [ 3.14159265 -1.57079633  1.57079633] ([[1. 0. 0. 0.]\n",
      " [0. 1. 0. 0.]\n",
      " [0. 0. 1. 0.]\n",
      " [0. 0. 0. 1.]], [[ 1.  0.  0.  0.]\n",
      " [ 0. -1. -0.  0.]\n",
      " [ 0.  0. -1.  0.]\n",
      " [ 0.  0.  0.  1.]], [[1. 0. 0. 0.]\n",
      " [0. 1. 0. 0.]\n",
      " [0. 0. 1. 0.]\n",
      " [0. 0. 0. 1.]], [[-0.   -0.    1.    0.05]\n",
      " [ 0.   -1.    0.    0.  ]\n",
      " [ 1.    0.    0.    0.05]\n",
      " [ 0.    0.    0.    1.  ]], [[-0.    0.   -1.    0.05]\n",
      " [ 0.    1.    0.    0.  ]\n",
      " [ 1.   -0.   -0.    0.05]\n",
      " [ 0.    0.    0.    1.  ]], [[-0.     0.     1.     0.125]\n",
      " [ 0.    -1.     0.    -0.   ]\n",
      " [ 1.     0.     0.     0.05 ]\n",
      " [ 0.     0.     0.     1.   ]], [[ 1.    0.    0.    0.2 ]\n",
      " [-0.    1.    0.   -0.  ]\n",
      " [ 0.   -0.    1.    0.05]\n",
      " [ 0.    0.    0.    1.  ]], [[ 1.     0.     0.     0.2  ]\n",
      " [-0.     1.     0.     0.   ]\n",
      " [ 0.    -0.     1.     0.125]\n",
      " [ 0.     0.     0.     1.   ]], [[ 1.   0.   0.   0.2]\n",
      " [-0.   1.   0.   0. ]\n",
      " [ 0.  -0.   1.   0.2]\n",
      " [ 0.   0.   0.   1. ]], [[ 1.  -0.  -0.   0.2]\n",
      " [-0.  -1.  -0.   0. ]\n",
      " [ 0.   0.  -1.   0.2]\n",
      " [ 0.   0.   0.   1. ]], [[ 1.     0.     0.     0.2  ]\n",
      " [-0.     1.     0.     0.   ]\n",
      " [ 0.    -0.     1.     0.425]\n",
      " [ 0.     0.     0.     1.   ]], [[ 1.    0.    0.    0.2 ]\n",
      " [-0.    1.    0.    0.  ]\n",
      " [ 0.   -0.    1.    0.65]\n",
      " [ 0.    0.    0.    1.  ]], [[ 1.   -0.   -0.    0.2 ]\n",
      " [-0.   -1.   -0.    0.  ]\n",
      " [ 0.    0.   -1.    0.65]\n",
      " [ 0.    0.    0.    1.  ]], [[ 1.     0.     0.     0.2  ]\n",
      " [-0.     1.     0.     0.   ]\n",
      " [ 0.    -0.     1.     0.725]\n",
      " [ 0.     0.     0.     1.   ]], [[-0.   0.   1.   0.2]\n",
      " [-1.  -0.  -0.   0. ]\n",
      " [ 0.  -1.   0.   0.8]\n",
      " [ 0.   0.   0.   1. ]], [[-0.     0.     1.     0.275]\n",
      " [-1.    -0.    -0.     0.   ]\n",
      " [ 0.    -1.     0.     0.8  ]\n",
      " [ 0.     0.     0.     1.   ]], [[-0.    0.    1.    0.35]\n",
      " [-1.   -0.   -0.    0.  ]\n",
      " [ 0.   -1.    0.    0.8 ]\n",
      " [ 0.    0.    0.    1.  ]], [[-0.    0.   -1.    0.35]\n",
      " [-1.    0.    0.    0.  ]\n",
      " [ 0.    1.    0.    0.8 ]\n",
      " [ 0.    0.    0.    1.  ]], [[-0.     0.     1.     0.425]\n",
      " [-1.    -0.    -0.     0.   ]\n",
      " [ 0.    -1.     0.     0.8  ]\n",
      " [ 0.     0.     0.     1.   ]], [[-0.   1.  -0.   0.5]\n",
      " [-0.  -0.  -1.   0. ]\n",
      " [-1.  -0.   0.   0.8]\n",
      " [ 0.   0.   0.   1. ]], [[-0.     1.    -0.     0.5  ]\n",
      " [-0.    -0.    -1.    -0.075]\n",
      " [-1.    -0.     0.     0.8  ]\n",
      " [ 0.     0.     0.     1.   ]], [[-0.    1.   -0.    0.5 ]\n",
      " [-0.   -0.   -1.   -0.15]\n",
      " [-1.   -0.    0.    0.8 ]\n",
      " [ 0.    0.    0.    1.  ]], [[-0.   -1.    0.    0.5 ]\n",
      " [-0.    0.    1.   -0.15]\n",
      " [-1.    0.   -0.    0.8 ]\n",
      " [ 0.    0.    0.    1.  ]], [[-0.    1.   -0.    0.5 ]\n",
      " [-0.   -0.   -1.   -0.15]\n",
      " [-1.   -0.    0.    0.8 ]\n",
      " [ 0.    0.    0.    1.  ]], [[-0.    1.   -0.    0.5 ]\n",
      " [-0.   -0.   -1.   -0.19]\n",
      " [-1.   -0.    0.    0.8 ]\n",
      " [ 0.    0.    0.    1.  ]])\n",
      "You can open the visualizer by visiting the following URL:\n",
      "http://127.0.0.1:7009/static/\n",
      "Current robot joint positions (configuration): [ 3.14159265 -1.57079633  1.57079633]\n",
      "Current robot joint velocities: [0. 0. 0.]\n",
      "[1.52529445e+01 6.92470588e+01 9.33973485e-16]\n"
     ]
    }
   ],
   "source": [
    "#arbitrary new joint state\n",
    "q2 = np.array([np.pi, -np.pi/2, np.pi/2])\n",
    "\n",
    "\n",
    "\"\"\"Forwards Kinematics (FK) and Forwards Dynamics (FD) methods belong to PinRobot object\"\"\"\n",
    "  # FK https://timor-python.readthedocs.io/en/latest/autoapi/timor/Robot/index.html#timor.Robot.PinRobot.fk\n",
    "  # FD https://timor-python.readthedocs.io/en/latest/autoapi/timor/Robot/index.html#timor.Robot.PinRobot.fd\n",
    "\n",
    "# FK calculates the relative rigid body transform from the reference config at a given joint angle position. \n",
    "# You can tell it to update the collision hitbox and visual mesh if wanted. I don't think this robot can collide with itself.\n",
    "print(f\"Robot end effector coordinate transform at joint state {q2}\", robot.fk(configuration = q2, collision = True, visual = True)) #default kind is tcp - tool center point\n",
    "print(f\"Robot joint coordinate transfom at joint state {q2}\", robot.fk(configuration = q2, kind = 'joints', collision = True, visual = True))\n",
    "print(f\"Robot full frames coordinate transfom at joint state {q2}\", robot.fk(configuration = q2, kind = 'full', collision = True, visual = True))\n",
    "\n",
    "\n",
    "#visual just updates the state of the visual geometries, we have to actually visualize to see it\n",
    "robot.visualize()\n",
    "\n",
    "#Current robot velocities\n",
    "print(f\"Current robot joint positions (configuration): {robot.configuration}\")\n",
    "print(f\"Current robot joint velocities: {robot.velocities}\")\n",
    "\n",
    "# FD calculates joint accelerations (ddq) given joint config (q) and joint velocity (dq) \n",
    "print(robot.fd(tau = [1, 0, 0], motor_inertia = False, friction = True))\n",
    "  "
   ]
  },
  {
   "cell_type": "code",
   "execution_count": 18,
   "id": "0f4e25e9",
   "metadata": {},
   "outputs": [
    {
     "name": "stdout",
     "output_type": "stream",
     "text": [
      "Self collision in this state:  False\n",
      "You can open the visualizer by visiting the following URL:\n",
      "http://127.0.0.1:7010/static/\n"
     ]
    },
    {
     "data": {
      "text/plain": [
       "<pinocchio.visualize.meshcat_visualizer.MeshcatVisualizer at 0x7f97caa98670>"
      ]
     },
     "execution_count": 18,
     "metadata": {},
     "output_type": "execute_result"
    }
   ],
   "source": [
    "\"\"\"Example of manually defined trajectory with Forwards Kinematics (pt 1)\"\"\"\n",
    "\n",
    "modules = ('base', 'i_30', 'J2', 'J2', 'J2', 'i_30', 'eef')\n",
    "B = ModuleAssembly.from_serial_modules(db, modules)\n",
    "long_robot = B.to_pin_robot() #convert to pinocchio robot\n",
    "\n",
    "q_0 = [np.pi, np.pi, np.pi] #start in this config with no collisions\n",
    "long_robot.fk(q_0, collision = True, visual = True)\n",
    "\n",
    "#the collisions() method exists, but requires the definition of a task. we look at collision pairs as a quick shortcut.\n",
    "print(\"Self collision in this state: \", long_robot.has_self_collision())\n",
    "long_robot.visualize_self_collisions() #nothing is highlighted b/c no self collisions"
   ]
  },
  {
   "cell_type": "code",
   "execution_count": 19,
   "id": "9adea543",
   "metadata": {},
   "outputs": [
    {
     "name": "stdout",
     "output_type": "stream",
     "text": [
      "Self-collision detected at joint state [0.12822827 0.12822827 0.12822827].\n",
      "Self-collision detected at joint state [0.06411414 0.06411414 0.06411414].\n",
      "Self-collision detected at joint state [0. 0. 0.].\n",
      "collision pair detected: 1 , 11 - collision: Yes\n",
      "You can open the visualizer by visiting the following URL:\n",
      "http://127.0.0.1:7011/static/\n"
     ]
    },
    {
     "data": {
      "text/plain": [
       "<pinocchio.visualize.meshcat_visualizer.MeshcatVisualizer at 0x7f97cabe6080>"
      ]
     },
     "execution_count": 19,
     "metadata": {},
     "output_type": "execute_result"
    }
   ],
   "source": [
    "\"\"\"Example of manually defined trajectory with Forwards Kinematics (pt 2)\"\"\"\n",
    "\n",
    "q_1 = [0, 0, 0] #this ending config has collisions\n",
    "collision_trajectory = np.linspace(q_0, q_1)\n",
    "\n",
    "for x in collision_trajectory:\n",
    "    #update the forward kinematics to the next joint state. \n",
    "    # We could try manually setting joint state and updating the collision and visual meshes, but this is cleaner. \n",
    "    fk_transform = long_robot.fk(x, collision=True, visual=True)\n",
    "\n",
    "    self_collision = long_robot.has_self_collision()\n",
    "    #print out collisions at this state\n",
    "    if self_collision:\n",
    "        print(f\"Self-collision detected at joint state {x}.\")\n",
    "\n",
    "    long_robot.update_configuration(x)\n",
    "    viz.updatePlacements(timor.visualization.VISUAL)  # We need to tell the visualizer to update\n",
    "    # viz.viewer.jupyter_cell(height = 800)\n",
    "\n",
    "# Visualize self collisions at 0 config (end of trajectory)\n",
    "long_robot.visualize_self_collisions()"
   ]
  },
  {
   "cell_type": "code",
   "execution_count": 22,
   "id": "1b34d9fa",
   "metadata": {},
   "outputs": [
    {
     "name": "stdout",
     "output_type": "stream",
     "text": [
      "You can open the visualizer by visiting the following URL:\n",
      "http://127.0.0.1:7012/static/\n"
     ]
    },
    {
     "data": {
      "text/html": [
       "\n",
       "            <div style=\"height: 400px; width: 100%; overflow-x: auto; overflow-y: hidden; resize: both\">\n",
       "            <iframe src=\"http://127.0.0.1:7012/static/\" style=\"width: 100%; height: 100%; border: none\"></iframe>\n",
       "            </div>\n",
       "            "
      ],
      "text/plain": [
       "<IPython.core.display.HTML object>"
      ]
     },
     "execution_count": 22,
     "metadata": {},
     "output_type": "execute_result"
    }
   ],
   "source": [
    "# animate the whole trajectory and visualize it\n",
    "# tip: open the control setting on the upper right corner of the jupyter cell. Under animation, you can play and pause the animation.\n",
    "viz_B = animation(long_robot, collision_trajectory, dt=.1)\n",
    "viz_B.viewer.jupyter_cell(height=400)"
   ]
  },
  {
   "cell_type": "code",
   "execution_count": 10,
   "id": "000ed16f",
   "metadata": {},
   "outputs": [],
   "source": [
    "#Inverse Kinematics and Dynamics - TODO"
   ]
  }
 ],
 "metadata": {
  "kernelspec": {
   "display_name": "timor-env",
   "language": "python",
   "name": "python3"
  },
  "language_info": {
   "codemirror_mode": {
    "name": "ipython",
    "version": 3
   },
   "file_extension": ".py",
   "mimetype": "text/x-python",
   "name": "python",
   "nbconvert_exporter": "python",
   "pygments_lexer": "ipython3",
   "version": "3.10.15"
  }
 },
 "nbformat": 4,
 "nbformat_minor": 5
}
