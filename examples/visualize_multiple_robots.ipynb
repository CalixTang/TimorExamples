{
 "cells": [
  {
   "cell_type": "markdown",
   "id": "60a00ca7-e8ba-4fe2-8aef-b43cdef09038",
   "metadata": {},
   "source": [
    "# Visualize multiple Robots\n",
    "\n",
    "For the visualization of multiple robots, there are some extra steps necessary. In this tutorial, we are going to build two modular robots from IMPROV modules and animate them in the same window.\n",
    "\n",
    "Before you start, make sure to do the first animation tutorial!"
   ]
  },
  {
   "cell_type": "code",
   "execution_count": 2,
   "id": "ae800d97-3314-47eb-8da3-0753b1d99bf4",
   "metadata": {},
   "outputs": [],
   "source": [
    "import numpy as np\n",
    "import meshcat.animation\n",
    "\n",
    "import timor\n",
    "from timor import ModuleAssembly, ModulesDB, Transformation\n",
    "from timor.utilities.file_locations import get_module_db_files\n",
    "from timor.utilities.visualization import animation, MeshcatVisualizerWithAnimation"
   ]
  },
  {
   "cell_type": "markdown",
   "id": "db92f46e-8295-42aa-9f1c-5892e598d853",
   "metadata": {},
   "source": [
    "As always, **loading the module set** has to come first. Next, we are going to build two serial robots based on the modules available."
   ]
  },
  {
   "cell_type": "code",
   "execution_count": 3,
   "id": "e989a2a4-f41c-4f96-8455-c57b4ec1999f",
   "metadata": {},
   "outputs": [
    {
     "name": "stderr",
     "output_type": "stream",
     "text": [
      "2024-10-23 14:19:58,253 Timor WARNING No collision model given for body 1\n",
      "2024-10-23 14:19:58,254 Timor WARNING EmptyGeometry does not use parameters, but they were given.\n"
     ]
    }
   ],
   "source": [
    "improv_modules = ModulesDB.from_json_file(get_module_db_files('IMPROV'))\n",
    "assembly_one = ModuleAssembly.from_serial_modules(improv_modules, ('1', '21', '4', '21', '23', '12'))\n",
    "assembly_two = ModuleAssembly.from_serial_modules(improv_modules, ('1', '21', '4', '21', '5', '23', '7', '12'))"
   ]
  },
  {
   "cell_type": "markdown",
   "id": "e9f507ad-c41e-4a3f-afbf-20cba8fd6137",
   "metadata": {},
   "source": [
    "Curious what ID belongs to which robot? Enter `improv_modules.debug_visualization()` to get an idea about the module set. It will look like this:\n",
    "\n",
    "\n",
    "![debug_visualization](img/IMPROV_modules.png)\n",
    "\n",
    "On the control panel on the right side, you can hide/unhide coordinate systems or modules and get an idea about them before deciding for an assembly.\n",
    "\n",
    "Next, we have to transform the assemblies to pinocchio models - also, we want to have them at different locations in the world, so we change the placement of the base connector reference frame for the larger robot by moving it 1m in x-direction:"
   ]
  },
  {
   "cell_type": "code",
   "execution_count": 4,
   "id": "d307e194-b148-428a-a68a-82ca93401957",
   "metadata": {},
   "outputs": [],
   "source": [
    "small_robot = assembly_one.to_pin_robot()\n",
    "large_robot = assembly_two.to_pin_robot()\n",
    "large_robot.set_base_placement(Transformation.from_translation([1, 0, 0]))"
   ]
  },
  {
   "cell_type": "markdown",
   "id": "f9db7ff6-3baf-4314-ba29-af6df6995c86",
   "metadata": {},
   "source": [
    "The visualizer will display the robots in the control panel under their name - as an assembly does not come with a given name (as e.g. a URDF model would), we assign them manually:"
   ]
  },
  {
   "cell_type": "code",
   "execution_count": 5,
   "id": "adfa40d2-5705-4304-a202-b24dc3c78f84",
   "metadata": {},
   "outputs": [],
   "source": [
    "small_robot._name = 'small'\n",
    "large_robot._name = 'large'"
   ]
  },
  {
   "cell_type": "markdown",
   "id": "1ede067f-fa34-435e-adc2-82b69893b3e3",
   "metadata": {},
   "source": [
    "Next, we generate a motion trajectory to perform - these are just some arbitrary values - feel free to play around with them:"
   ]
  },
  {
   "cell_type": "code",
   "execution_count": 6,
   "id": "c6d98f77-ba6f-4f94-8d11-c4c5dd633990",
   "metadata": {},
   "outputs": [],
   "source": [
    "q0 = np.zeros((6,))\n",
    "q1 = np.array([np.pi/4, -np.pi/3, -np.pi/2, 0, np.pi/3, np.pi/2])\n",
    "q2 = -q1\n",
    "\n",
    "move_right = np.linspace(q0, q1, 100)\n",
    "move_left = np.linspace(q1, q2, 200)\n",
    "move_back = np.linspace(q2, q0, 100)\n",
    "stand_still = np.vstack([np.expand_dims(q0, 0)] * 25)\n",
    "trajectory = np.vstack([move_right, move_left, move_back, stand_still])"
   ]
  },
  {
   "cell_type": "markdown",
   "id": "fae23459-f56f-484c-b4a4-73e588149d25",
   "metadata": {},
   "source": [
    "The default `animation` method provided with timor is designed for one single robot - so we have to directly interact with the meshcat visualizer provided with pinochio. What we do is:\n",
    "\n",
    "1. Set up a visualizer with animation capabilities and load the small robot there.\n",
    "2. Generate a second visualizer for the large robot and make it refer to the same viewer object s.t. both robots will be laoded in the same window.\n",
    "3. Create an animation object\n",
    "4. For every step in our trajectory, generate one frame for the animation and use the visualizer method `create_animation_frame` to update the animation\n",
    "5. Load the animation in the viewer window"
   ]
  },
  {
   "cell_type": "code",
   "execution_count": 7,
   "id": "3fe20062-21cd-4ef2-9e8d-b6a77d29f097",
   "metadata": {},
   "outputs": [
    {
     "name": "stdout",
     "output_type": "stream",
     "text": [
      "You can open the visualizer by visiting the following URL:\n",
      "http://127.0.0.1:7005/static/\n"
     ]
    },
    {
     "ename": "AttributeError",
     "evalue": "'MeshcatVisualizerWithAnimation' object has no attribute 'static_objects'",
     "output_type": "error",
     "traceback": [
      "\u001b[0;31m---------------------------------------------------------------------------\u001b[0m",
      "\u001b[0;31mAttributeError\u001b[0m                            Traceback (most recent call last)",
      "Cell \u001b[0;32mIn[7], line 4\u001b[0m\n\u001b[1;32m      2\u001b[0m new_viz \u001b[38;5;241m=\u001b[39m MeshcatVisualizerWithAnimation()\n\u001b[1;32m      3\u001b[0m new_viz\u001b[38;5;241m.\u001b[39mviewer \u001b[38;5;241m=\u001b[39m v\u001b[38;5;241m.\u001b[39mviewer\n\u001b[0;32m----> 4\u001b[0m \u001b[43mlarge_robot\u001b[49m\u001b[38;5;241;43m.\u001b[39;49m\u001b[43mvisualize\u001b[49m\u001b[43m(\u001b[49m\u001b[43mvisualizer\u001b[49m\u001b[38;5;241;43m=\u001b[39;49m\u001b[43mnew_viz\u001b[49m\u001b[43m)\u001b[49m\n\u001b[1;32m      5\u001b[0m anim \u001b[38;5;241m=\u001b[39m meshcat\u001b[38;5;241m.\u001b[39manimation\u001b[38;5;241m.\u001b[39mAnimation(default_framerate\u001b[38;5;241m=\u001b[39m\u001b[38;5;241m60\u001b[39m)\n\u001b[1;32m      7\u001b[0m \u001b[38;5;28;01mfor\u001b[39;00m i \u001b[38;5;129;01min\u001b[39;00m \u001b[38;5;28mrange\u001b[39m(\u001b[38;5;241m0\u001b[39m, trajectory\u001b[38;5;241m.\u001b[39mshape[\u001b[38;5;241m0\u001b[39m]):\n",
      "File \u001b[0;32m~/anaconda3/envs/timor-env/lib/python3.10/site-packages/timor/Robot.py:1384\u001b[0m, in \u001b[0;36mPinRobot.visualize\u001b[0;34m(self, visualizer, coordinate_systems, update_collision_visuals)\u001b[0m\n\u001b[1;32m   1382\u001b[0m \u001b[38;5;28;01mif\u001b[39;00m \u001b[38;5;129;01mnot\u001b[39;00m \u001b[38;5;28mhasattr\u001b[39m(visualizer, \u001b[38;5;124m'\u001b[39m\u001b[38;5;124mviewer\u001b[39m\u001b[38;5;124m'\u001b[39m):\n\u001b[1;32m   1383\u001b[0m     visualizer\u001b[38;5;241m.\u001b[39minitViewer()\n\u001b[0;32m-> 1384\u001b[0m \u001b[43mvisualizer\u001b[49m\u001b[38;5;241;43m.\u001b[39;49m\u001b[43mloadViewerModel\u001b[49m\u001b[43m(\u001b[49m\u001b[43mrootNodeName\u001b[49m\u001b[38;5;241;43m=\u001b[39;49m\u001b[38;5;28;43mself\u001b[39;49m\u001b[38;5;241;43m.\u001b[39;49m\u001b[43mname\u001b[49m\u001b[43m)\u001b[49m\n\u001b[1;32m   1386\u001b[0m \u001b[38;5;66;03m# Force update of collision meshes; otherwise toggle shows them not at current configuration\u001b[39;00m\n\u001b[1;32m   1387\u001b[0m \u001b[38;5;28;01mif\u001b[39;00m update_collision_visuals:\n",
      "File \u001b[0;32m~/anaconda3/envs/timor-env/lib/python3.10/site-packages/cmeel.prefix/lib/python3.10/site-packages/pinocchio/visualize/meshcat_visualizer.py:500\u001b[0m, in \u001b[0;36mMeshcatVisualizer.loadViewerModel\u001b[0;34m(self, rootNodeName, color)\u001b[0m\n\u001b[1;32m    498\u001b[0m \u001b[38;5;28;01mfor\u001b[39;00m visual \u001b[38;5;129;01min\u001b[39;00m \u001b[38;5;28mself\u001b[39m\u001b[38;5;241m.\u001b[39mvisual_model\u001b[38;5;241m.\u001b[39mgeometryObjects:\n\u001b[1;32m    499\u001b[0m     \u001b[38;5;28mself\u001b[39m\u001b[38;5;241m.\u001b[39mloadViewerGeometryObject(visual, pin\u001b[38;5;241m.\u001b[39mGeometryType\u001b[38;5;241m.\u001b[39mVISUAL, color)\n\u001b[0;32m--> 500\u001b[0m \u001b[38;5;28;43mself\u001b[39;49m\u001b[38;5;241;43m.\u001b[39;49m\u001b[43mdisplayVisuals\u001b[49m\u001b[43m(\u001b[49m\u001b[38;5;28;43;01mTrue\u001b[39;49;00m\u001b[43m)\u001b[49m\n\u001b[1;32m    502\u001b[0m \u001b[38;5;66;03m# Frames\u001b[39;00m\n\u001b[1;32m    503\u001b[0m \u001b[38;5;28mself\u001b[39m\u001b[38;5;241m.\u001b[39mviewerFramesGroupName \u001b[38;5;241m=\u001b[39m \u001b[38;5;28mself\u001b[39m\u001b[38;5;241m.\u001b[39mviewerRootNodeName \u001b[38;5;241m+\u001b[39m \u001b[38;5;124m\"\u001b[39m\u001b[38;5;124m/\u001b[39m\u001b[38;5;124m\"\u001b[39m \u001b[38;5;241m+\u001b[39m \u001b[38;5;124m\"\u001b[39m\u001b[38;5;124mframes\u001b[39m\u001b[38;5;124m\"\u001b[39m\n",
      "File \u001b[0;32m~/anaconda3/envs/timor-env/lib/python3.10/site-packages/cmeel.prefix/lib/python3.10/site-packages/pinocchio/visualize/meshcat_visualizer.py:614\u001b[0m, in \u001b[0;36mMeshcatVisualizer.displayVisuals\u001b[0;34m(self, visibility)\u001b[0m\n\u001b[1;32m    611\u001b[0m \u001b[38;5;28mself\u001b[39m\u001b[38;5;241m.\u001b[39mviewer[\u001b[38;5;28mself\u001b[39m\u001b[38;5;241m.\u001b[39mviewerVisualGroupName]\u001b[38;5;241m.\u001b[39mset_property(\u001b[38;5;124m\"\u001b[39m\u001b[38;5;124mvisible\u001b[39m\u001b[38;5;124m\"\u001b[39m, visibility)\n\u001b[1;32m    613\u001b[0m \u001b[38;5;28;01mif\u001b[39;00m visibility:\n\u001b[0;32m--> 614\u001b[0m     \u001b[38;5;28;43mself\u001b[39;49m\u001b[38;5;241;43m.\u001b[39;49m\u001b[43mupdatePlacements\u001b[49m\u001b[43m(\u001b[49m\u001b[43mpin\u001b[49m\u001b[38;5;241;43m.\u001b[39;49m\u001b[43mGeometryType\u001b[49m\u001b[38;5;241;43m.\u001b[39;49m\u001b[43mVISUAL\u001b[49m\u001b[43m)\u001b[49m\n",
      "File \u001b[0;32m~/anaconda3/envs/timor-env/lib/python3.10/site-packages/cmeel.prefix/lib/python3.10/site-packages/pinocchio/visualize/meshcat_visualizer.py:566\u001b[0m, in \u001b[0;36mMeshcatVisualizer.updatePlacements\u001b[0;34m(self, geometry_type)\u001b[0m\n\u001b[1;32m    563\u001b[0m     \u001b[38;5;66;03m# Update viewer configuration.\u001b[39;00m\n\u001b[1;32m    564\u001b[0m     \u001b[38;5;28mself\u001b[39m\u001b[38;5;241m.\u001b[39mviewer[visual_name]\u001b[38;5;241m.\u001b[39mset_transform(T)\n\u001b[0;32m--> 566\u001b[0m \u001b[38;5;28;01mfor\u001b[39;00m visual \u001b[38;5;129;01min\u001b[39;00m \u001b[38;5;28;43mself\u001b[39;49m\u001b[38;5;241;43m.\u001b[39;49m\u001b[43mstatic_objects\u001b[49m:\n\u001b[1;32m    567\u001b[0m     visual_name \u001b[38;5;241m=\u001b[39m \u001b[38;5;28mself\u001b[39m\u001b[38;5;241m.\u001b[39mgetViewerNodeName(visual, pin\u001b[38;5;241m.\u001b[39mGeometryType\u001b[38;5;241m.\u001b[39mVISUAL)\n\u001b[1;32m    568\u001b[0m     M \u001b[38;5;241m=\u001b[39m visual\u001b[38;5;241m.\u001b[39mplacement\n",
      "\u001b[0;31mAttributeError\u001b[0m: 'MeshcatVisualizerWithAnimation' object has no attribute 'static_objects'"
     ]
    }
   ],
   "source": [
    "v = MeshcatVisualizerWithAnimation.from_MeshcatVisualizer(small_robot.visualize())\n",
    "new_viz = MeshcatVisualizerWithAnimation()\n",
    "new_viz.viewer = v.viewer\n",
    "large_robot.visualize(visualizer=new_viz)\n",
    "anim = meshcat.animation.Animation(default_framerate=60)\n",
    "\n",
    "for i in range(0, trajectory.shape[0]):\n",
    "    with anim.at_frame(v.viewer, i) as frame:\n",
    "        small_robot.update_configuration(trajectory[i, :])\n",
    "        large_robot.update_configuration(trajectory[i, :])\n",
    "        v.create_animation_frame(timor.visualization.VISUAL, frame)\n",
    "        new_viz.create_animation_frame(timor.visualization.VISUAL, frame)\n",
    "\n",
    "v.viewer.set_animation(anim, repetitions=2)"
   ]
  },
  {
   "cell_type": "markdown",
   "id": "71fb1179-7b1b-4bb2-bd7c-3be6abab2ac5",
   "metadata": {},
   "source": [
    "Congratulations - that's it! The same process works without setting an animation, of course. Just stop the tutorial at the point where we start building the animation and you will get a static visualization.\n",
    "\n",
    "**Tip**: You can also do in-notebook visualization instead of the browser-based animation:"
   ]
  },
  {
   "cell_type": "code",
   "execution_count": 8,
   "id": "ecaf2a2c-4b4f-4c69-a9f1-654278ecf5b7",
   "metadata": {},
   "outputs": [
    {
     "data": {
      "text/html": [
       "\n",
       "            <div style=\"height: 800px; width: 100%; overflow-x: auto; overflow-y: hidden; resize: both\">\n",
       "            <iframe src=\"http://127.0.0.1:7005/static/\" style=\"width: 100%; height: 100%; border: none\"></iframe>\n",
       "            </div>\n",
       "            "
      ],
      "text/plain": [
       "<IPython.core.display.HTML object>"
      ]
     },
     "execution_count": 8,
     "metadata": {},
     "output_type": "execute_result"
    }
   ],
   "source": [
    "v.viewer.jupyter_cell(height=800)"
   ]
  },
  {
   "cell_type": "code",
   "execution_count": null,
   "id": "6daf9560-184d-4062-bc6d-310733e18c08",
   "metadata": {},
   "outputs": [],
   "source": []
  }
 ],
 "metadata": {
  "kernelspec": {
   "display_name": "timor-env",
   "language": "python",
   "name": "python3"
  },
  "language_info": {
   "codemirror_mode": {
    "name": "ipython",
    "version": 3
   },
   "file_extension": ".py",
   "mimetype": "text/x-python",
   "name": "python",
   "nbconvert_exporter": "python",
   "pygments_lexer": "ipython3",
   "version": "3.10.15"
  }
 },
 "nbformat": 4,
 "nbformat_minor": 5
}
