{
 "cells": [
  {
   "cell_type": "markdown",
   "id": "eddb3214-64fb-4912-a879-c06418bb81ff",
   "metadata": {},
   "source": [
    "# Perform forward kinematics with a trajectory"
   ]
  },
  {
   "cell_type": "markdown",
   "id": "9f976dd9-cc4f-4130-933a-a74e6d46d717",
   "metadata": {},
   "source": [
    "In this notebook, we are going to generate a short video for a random robot movement you can watch in your browser.\n",
    "\n",
    "First of all, we need some modules. You can create some simple modules built from geometric primitives yourself - there is a distinct tutorial to that purpose. If you don't want to, we can use the set of simple modules provided with the timor source code:"
   ]
  },
  {
   "cell_type": "code",
   "execution_count": 1,
   "id": "a67e4d4d-33b5-42f6-8f95-648124867aa3",
   "metadata": {},
   "outputs": [
    {
     "name": "stderr",
     "output_type": "stream",
     "text": [
      "2024-10-29 17:36:04,215 Timor INFO Loading custom configurations from /home/mscsim/.config/timor.config\n"
     ]
    }
   ],
   "source": [
    "from pathlib import Path\n",
    "\n",
    "# provide your own filepaths if you already did the module generation tutorial:\n",
    "your_modules_json = Path('')\n",
    "your_assets_directory = Path('')\n",
    "\n",
    "if your_modules_json == Path(''):\n",
    "    from timor.utilities.file_locations import get_module_db_files\n",
    "    modules_file = get_module_db_files('geometric_primitive_modules')"
   ]
  },
  {
   "cell_type": "code",
   "execution_count": 2,
   "id": "fdad6ede-6956-4d5e-b288-695b9bae384c",
   "metadata": {},
   "outputs": [
    {
     "name": "stdout",
     "output_type": "stream",
     "text": [
      "{'Demo EEF': <timor.Module.AtomicModule object at 0x7fad21bbc6a0>, 'I shaped link 0.08-0.08-15': <timor.Module.AtomicModule object at 0x7fad21bbcc70>, 'L shaped link 0.1-0.08-15': <timor.Module.AtomicModule object at 0x7fad21bbdde0>, 'Base': <timor.Module.AtomicModule object at 0x7fad21b39de0>, 'L shaped link 0.1-0.08-30': <timor.Module.AtomicModule object at 0x7fad21bbe5f0>, 'Revolute Joint': <timor.Module.AtomicModule object at 0x7fad21b396f0>, 'I shaped link 0.08-0.08-30': <timor.Module.AtomicModule object at 0x7fad21bbd240>, 'Prismatic Joint': <timor.Module.AtomicModule object at 0x7fad21b3a7a0>, 'L shaped link 0.1-0.08-45': <timor.Module.AtomicModule object at 0x7fad21bbee00>, 'I shaped link 0.08-0.08-45': <timor.Module.AtomicModule object at 0x7fad21bbd810>}\n",
      "{'eef': <timor.Module.AtomicModule object at 0x7fad21bbc6a0>, 'i_15': <timor.Module.AtomicModule object at 0x7fad21bbcc70>, 'l_15': <timor.Module.AtomicModule object at 0x7fad21bbdde0>, 'base': <timor.Module.AtomicModule object at 0x7fad21b39de0>, 'l_30': <timor.Module.AtomicModule object at 0x7fad21bbe5f0>, 'J2': <timor.Module.AtomicModule object at 0x7fad21b396f0>, 'i_30': <timor.Module.AtomicModule object at 0x7fad21bbd240>, 'J1': <timor.Module.AtomicModule object at 0x7fad21b3a7a0>, 'l_45': <timor.Module.AtomicModule object at 0x7fad21bbee00>, 'i_45': <timor.Module.AtomicModule object at 0x7fad21bbd810>}\n"
     ]
    }
   ],
   "source": [
    "import numpy as np\n",
    "import timor\n",
    "from timor.Module import *\n",
    "from timor.utilities.visualization import animation, MeshcatVisualizerWithAnimation\n",
    "\n",
    "#create the DB object\n",
    "db = ModulesDB.from_json_file(modules_file)\n",
    "\n",
    "#print out available modules in DB\n",
    "print(db.by_name)\n",
    "print(db.by_id)\n",
    "# print(db.all_joints)\n",
    "# print(db.all_connectors)\n"
   ]
  },
  {
   "cell_type": "code",
   "execution_count": 3,
   "id": "8758b6d2",
   "metadata": {},
   "outputs": [
    {
     "name": "stdout",
     "output_type": "stream",
     "text": [
      "You can open the visualizer by visiting the following URL:\n",
      "http://127.0.0.1:7009/static/\n"
     ]
    },
    {
     "data": {
      "text/html": [
       "\n",
       "            <div style=\"height: 400px; width: 100%; overflow-x: auto; overflow-y: hidden; resize: both\">\n",
       "            <iframe src=\"http://127.0.0.1:7009/static/\" style=\"width: 100%; height: 100%; border: none\"></iframe>\n",
       "            </div>\n",
       "            "
      ],
      "text/plain": [
       "<IPython.core.display.HTML object>"
      ]
     },
     "execution_count": 3,
     "metadata": {},
     "output_type": "execute_result"
    }
   ],
   "source": [
    "#contains IDs we care about. The order is arbitrary, but if we want to make a robot out of this (i.e. kinematic tree) we should put in order.\n",
    "modules = ('base', 'J2', 'i_45', 'J2', 'J2', 'eef')\n",
    "A = ModuleAssembly.from_serial_modules(db, modules)\n",
    "robot = A.to_pin_robot() #convert to pinocchio robot\n",
    "\n",
    "viz = robot.visualize()\n",
    "viz.viewer.jupyter_cell(height=400) # generate a jupyter cell to visualize the robot"
   ]
  },
  {
   "cell_type": "code",
   "execution_count": 4,
   "id": "55f15230-d2a2-430c-8234-a4c99949610f",
   "metadata": {},
   "outputs": [
    {
     "name": "stdout",
     "output_type": "stream",
     "text": [
      "Robot end effector coordinate transform at joint state [ 3.14159265 -1.57079633  1.57079633] [[-0.    1.   -0.    0.5 ]\n",
      " [-0.   -0.   -1.   -0.19]\n",
      " [-1.   -0.    0.    0.8 ]\n",
      " [ 0.    0.    0.    1.  ]]\n",
      "Robot joint coordinate transfom at joint state [ 3.14159265 -1.57079633  1.57079633] ([[ 1.    0.    0.    0.2 ]\n",
      " [-0.    1.    0.   -0.  ]\n",
      " [ 0.   -0.    1.    0.05]\n",
      " [ 0.    0.    0.    1.  ]], [[-0.   0.   1.   0.2]\n",
      " [-1.  -0.  -0.   0. ]\n",
      " [ 0.  -1.   0.   0.8]\n",
      " [ 0.   0.   0.   1. ]], [[-0.   1.  -0.   0.5]\n",
      " [-0.  -0.  -1.   0. ]\n",
      " [-1.  -0.   0.   0.8]\n",
      " [ 0.   0.   0.   1. ]])\n",
      "Robot full frames coordinate transfom at joint state [ 3.14159265 -1.57079633  1.57079633] ([[1. 0. 0. 0.]\n",
      " [0. 1. 0. 0.]\n",
      " [0. 0. 1. 0.]\n",
      " [0. 0. 0. 1.]], [[ 1.  0.  0.  0.]\n",
      " [ 0. -1. -0.  0.]\n",
      " [ 0.  0. -1.  0.]\n",
      " [ 0.  0.  0.  1.]], [[1. 0. 0. 0.]\n",
      " [0. 1. 0. 0.]\n",
      " [0. 0. 1. 0.]\n",
      " [0. 0. 0. 1.]], [[-0.   -0.    1.    0.05]\n",
      " [ 0.   -1.    0.    0.  ]\n",
      " [ 1.    0.    0.    0.05]\n",
      " [ 0.    0.    0.    1.  ]], [[-0.    0.   -1.    0.05]\n",
      " [ 0.    1.    0.    0.  ]\n",
      " [ 1.   -0.   -0.    0.05]\n",
      " [ 0.    0.    0.    1.  ]], [[-0.     0.     1.     0.125]\n",
      " [ 0.    -1.     0.    -0.   ]\n",
      " [ 1.     0.     0.     0.05 ]\n",
      " [ 0.     0.     0.     1.   ]], [[ 1.    0.    0.    0.2 ]\n",
      " [-0.    1.    0.   -0.  ]\n",
      " [ 0.   -0.    1.    0.05]\n",
      " [ 0.    0.    0.    1.  ]], [[ 1.     0.     0.     0.2  ]\n",
      " [-0.     1.     0.     0.   ]\n",
      " [ 0.    -0.     1.     0.125]\n",
      " [ 0.     0.     0.     1.   ]], [[ 1.   0.   0.   0.2]\n",
      " [-0.   1.   0.   0. ]\n",
      " [ 0.  -0.   1.   0.2]\n",
      " [ 0.   0.   0.   1. ]], [[ 1.  -0.  -0.   0.2]\n",
      " [-0.  -1.  -0.   0. ]\n",
      " [ 0.   0.  -1.   0.2]\n",
      " [ 0.   0.   0.   1. ]], [[ 1.     0.     0.     0.2  ]\n",
      " [-0.     1.     0.     0.   ]\n",
      " [ 0.    -0.     1.     0.425]\n",
      " [ 0.     0.     0.     1.   ]], [[ 1.    0.    0.    0.2 ]\n",
      " [-0.    1.    0.    0.  ]\n",
      " [ 0.   -0.    1.    0.65]\n",
      " [ 0.    0.    0.    1.  ]], [[ 1.   -0.   -0.    0.2 ]\n",
      " [-0.   -1.   -0.    0.  ]\n",
      " [ 0.    0.   -1.    0.65]\n",
      " [ 0.    0.    0.    1.  ]], [[ 1.     0.     0.     0.2  ]\n",
      " [-0.     1.     0.     0.   ]\n",
      " [ 0.    -0.     1.     0.725]\n",
      " [ 0.     0.     0.     1.   ]], [[-0.   0.   1.   0.2]\n",
      " [-1.  -0.  -0.   0. ]\n",
      " [ 0.  -1.   0.   0.8]\n",
      " [ 0.   0.   0.   1. ]], [[-0.     0.     1.     0.275]\n",
      " [-1.    -0.    -0.     0.   ]\n",
      " [ 0.    -1.     0.     0.8  ]\n",
      " [ 0.     0.     0.     1.   ]], [[-0.    0.    1.    0.35]\n",
      " [-1.   -0.   -0.    0.  ]\n",
      " [ 0.   -1.    0.    0.8 ]\n",
      " [ 0.    0.    0.    1.  ]], [[-0.    0.   -1.    0.35]\n",
      " [-1.    0.    0.    0.  ]\n",
      " [ 0.    1.    0.    0.8 ]\n",
      " [ 0.    0.    0.    1.  ]], [[-0.     0.     1.     0.425]\n",
      " [-1.    -0.    -0.     0.   ]\n",
      " [ 0.    -1.     0.     0.8  ]\n",
      " [ 0.     0.     0.     1.   ]], [[-0.   1.  -0.   0.5]\n",
      " [-0.  -0.  -1.   0. ]\n",
      " [-1.  -0.   0.   0.8]\n",
      " [ 0.   0.   0.   1. ]], [[-0.     1.    -0.     0.5  ]\n",
      " [-0.    -0.    -1.    -0.075]\n",
      " [-1.    -0.     0.     0.8  ]\n",
      " [ 0.     0.     0.     1.   ]], [[-0.    1.   -0.    0.5 ]\n",
      " [-0.   -0.   -1.   -0.15]\n",
      " [-1.   -0.    0.    0.8 ]\n",
      " [ 0.    0.    0.    1.  ]], [[-0.   -1.    0.    0.5 ]\n",
      " [-0.    0.    1.   -0.15]\n",
      " [-1.    0.   -0.    0.8 ]\n",
      " [ 0.    0.    0.    1.  ]], [[-0.    1.   -0.    0.5 ]\n",
      " [-0.   -0.   -1.   -0.15]\n",
      " [-1.   -0.    0.    0.8 ]\n",
      " [ 0.    0.    0.    1.  ]], [[-0.    1.   -0.    0.5 ]\n",
      " [-0.   -0.   -1.   -0.19]\n",
      " [-1.   -0.    0.    0.8 ]\n",
      " [ 0.    0.    0.    1.  ]])\n",
      "You can open the visualizer by visiting the following URL:\n",
      "http://127.0.0.1:7010/static/\n",
      "Current robot joint positions (configuration): [ 3.14159265 -1.57079633  1.57079633]\n",
      "Current robot joint velocities: [0. 0. 0.]\n",
      "[1.52529445e+01 6.92470588e+01 9.33973485e-16]\n"
     ]
    }
   ],
   "source": [
    "#arbitrary new joint state\n",
    "q2 = np.array([np.pi, -np.pi/2, np.pi/2])\n",
    "\n",
    "\n",
    "\"\"\"Forwards Kinematics (FK) and Forwards Dynamics (FD) methods belong to PinRobot object\"\"\"\n",
    "  # FK https://timor-python.readthedocs.io/en/latest/autoapi/timor/Robot/index.html#timor.Robot.PinRobot.fk\n",
    "  # FD https://timor-python.readthedocs.io/en/latest/autoapi/timor/Robot/index.html#timor.Robot.PinRobot.fd\n",
    "\n",
    "# FK calculates the relative rigid body transform from the reference config at a given joint angle position. \n",
    "# You can tell it to update the collision hitbox and visual mesh if wanted. I don't think this robot can collide with itself.\n",
    "print(f\"Robot end effector coordinate transform at joint state {q2}\", robot.fk(configuration = q2, collision = True, visual = True)) #default kind is tcp - tool center point\n",
    "print(f\"Robot joint coordinate transfom at joint state {q2}\", robot.fk(configuration = q2, kind = 'joints', collision = True, visual = True))\n",
    "print(f\"Robot full frames coordinate transfom at joint state {q2}\", robot.fk(configuration = q2, kind = 'full', collision = True, visual = True))\n",
    "\n",
    "\n",
    "#visual just updates the state of the visual geometries, we have to actually visualize to see it\n",
    "vis = robot.visualize()\n",
    "\n",
    "#Current robot velocities\n",
    "print(f\"Current robot joint positions (configuration): {robot.configuration}\")\n",
    "print(f\"Current robot joint velocities: {robot.velocities}\")\n",
    "\n",
    "# FD calculates joint accelerations (ddq) given joint config (q) and joint velocity (dq) \n",
    "print(robot.fd(tau = [1, 0, 0], motor_inertia = False, friction = True))\n",
    "  "
   ]
  },
  {
   "cell_type": "code",
   "execution_count": 5,
   "id": "3197cd3f",
   "metadata": {},
   "outputs": [],
   "source": [
    "def specific_pose_valid(robot, theta: List[float], task = None) -> bool:\n",
    "\t#perform FK on the theta list\n",
    "\trobot.fk(theta, visual = True, collision = True)\n",
    "\t\n",
    "\tself_collisions = robot.has_self_collision()\n",
    "\tcollisions = False if task is None else robot.has_collisions(task, safety_margin=0) #may need to alter safety margin\n",
    "\n",
    "\treturn not (collisions or self_collisions)"
   ]
  },
  {
   "cell_type": "code",
   "execution_count": 9,
   "id": "0f4e25e9",
   "metadata": {},
   "outputs": [
    {
     "name": "stdout",
     "output_type": "stream",
     "text": [
      "Self collision in this state:  False\n",
      "You can open the visualizer by visiting the following URL:\n",
      "http://127.0.0.1:7013/static/\n",
      "Specific pose valid:  True\n",
      "Self collision in this state:  True\n",
      "collision pair detected: 1 , 11 - collision: Yes\n",
      "You can open the visualizer by visiting the following URL:\n",
      "http://127.0.0.1:7014/static/\n",
      "Specific pose valid:  False\n"
     ]
    }
   ],
   "source": [
    "\"\"\"Example of manually defined trajectory with Forwards Kinematics (pt 1)\"\"\"\n",
    "\n",
    "modules = ('base', 'i_30', 'J2', 'J2', 'J2', 'i_30', 'eef')\n",
    "B = ModuleAssembly.from_serial_modules(db, modules)\n",
    "long_robot = B.to_pin_robot() #convert to pinocchio robot\n",
    "\n",
    "q_0 = [np.pi, np.pi, np.pi] #start in this config with no collisions\n",
    "\n",
    "no_collision_eff = long_robot.fk(q_0, collision = True, visual = True)\n",
    "\n",
    "#the collisions() method exists, but requires the definition of a task. we look at collision pairs as a quick shortcut.\n",
    "print(\"Self collision in this state: \", long_robot.has_self_collision())\n",
    "long_robot.visualize_self_collisions() #nothing is highlighted b/c no self collisions\n",
    "\n",
    "print(\"Specific pose valid: \", specific_pose_valid(long_robot, q_0))\n",
    "\n",
    "q_1 = [0,0,0]\n",
    "collision_eff = long_robot.fk(q_1, collision = True, visual = True)\n",
    "\n",
    "#the collisions() method exists, but requires the definition of a task. we look at collision pairs as a quick shortcut.\n",
    "print(\"Self collision in this state: \", long_robot.has_self_collision())\n",
    "long_robot.visualize_self_collisions() #nothing is highlighted b/c no self collisions\n",
    "\n",
    "print(\"Specific pose valid: \", specific_pose_valid(long_robot, q_1))"
   ]
  },
  {
   "cell_type": "code",
   "execution_count": 13,
   "id": "597f97eb",
   "metadata": {},
   "outputs": [],
   "source": [
    "from timor.utilities.transformation import Transformation\n",
    "from timor.utilities.tolerated_pose import ToleratedPose\n",
    "\n",
    "no_collision_t = Transformation(no_collision_eff)\n",
    "no_collision_pose = ToleratedPose(no_collision_t)"
   ]
  },
  {
   "cell_type": "code",
   "execution_count": 15,
   "id": "5d95f276",
   "metadata": {},
   "outputs": [],
   "source": [
    "def inverse_kinematics(robot, eff_pose):\n",
    "    transformation = Transformation(eff_pose)\n",
    "    tolerated_pose = ToleratedPose(transformation)\n",
    "    \n",
    "    return robot.ik(tolerated_pose)"
   ]
  },
  {
   "cell_type": "code",
   "execution_count": 16,
   "id": "8fb8a678",
   "metadata": {},
   "outputs": [
    {
     "name": "stdout",
     "output_type": "stream",
     "text": [
      "(array([-3.14159265,  3.14159265,  3.14159265]), True)\n"
     ]
    },
    {
     "name": "stderr",
     "output_type": "stream",
     "text": [
      "2024-10-29 23:28:25,29 Timor INFO IK failed to converge.\n"
     ]
    },
    {
     "name": "stdout",
     "output_type": "stream",
     "text": [
      "(array([-1.04356275,  0.72078817, -0.91744552]), False)\n"
     ]
    }
   ],
   "source": [
    "#print(long_robot.ik(no_collision_pose))\n",
    "print(inverse_kinematics(long_robot, no_collision_eff))\n",
    "print(inverse_kinematics(long_robot, collision_eff))\n",
    "#print(long_robot.ik(collision_eff))"
   ]
  },
  {
   "cell_type": "code",
   "execution_count": 40,
   "id": "78503386",
   "metadata": {},
   "outputs": [],
   "source": [
    "import matplotlib.pyplot as plt\n",
    "from mpl_toolkits.mplot3d import Axes3D\n",
    "from tqdm import tqdm\n",
    "\n",
    "def check_reachable_cubes(robot, space_dimensions, segment_len, error):\n",
    "    # Extract the x, y, z dimensions of the main cube\n",
    "    x_dim, y_dim, z_dim = space_dimensions\n",
    "\n",
    "    # Initialize lists to store the coordinates of reachable and unreachable centers\n",
    "    reachable_points = []\n",
    "    unreachable_points = []\n",
    "    reachable_config = []\n",
    "\n",
    "    # Generate the ranges for each axis with 0.1m increments\n",
    "    x_range = np.arange(-x_dim / 2, x_dim / 2 + segment_len, segment_len)\n",
    "    y_range = np.arange(-y_dim / 2, y_dim / 2 + segment_len, segment_len)\n",
    "    z_range = np.arange(0, z_dim, segment_len)\n",
    "    \n",
    "    progress = 0\n",
    "    # Iterate through each small cube's center\n",
    "    total_iterations = len(x_range) * len(y_range) * len(z_range)\n",
    "    with tqdm(total=total_iterations, desc=\"Overall Progress\", position=0) as pbar:\n",
    "        for x in x_range:\n",
    "            for y in y_range:\n",
    "                for z in z_range:\n",
    "                    # Define a target 4x4 transformation matrix for the cube center\n",
    "                    target_matrix = np.array([\n",
    "                        [1, 0, 0, x],\n",
    "                        [0, 1, 0, y],\n",
    "                        [0, 0, 1, z],\n",
    "                        [0, 0, 0, 1]\n",
    "                    ])\n",
    "                    \n",
    "                    # Check reachability and store the center accordingly\n",
    "                    pose, success = inverse_kinematics(robot, target_matrix)\n",
    "                    if success:\n",
    "                        reachable_points.append([x, y, z])\n",
    "                        reachable_config.append(pose)\n",
    "                    else:\n",
    "                        end_eff = robot.fk(pose, collision = True, visual = True)\n",
    "                        target_point = np.array([x,y,z])\n",
    "                        actual_point = np.array([end_eff[0][3], end_eff[1][3], end_eff[2][3]])\n",
    "                        distance = np.linalg.norm(target_point - actual_point)\n",
    "                        \n",
    "                        if distance < error:\n",
    "                            reachable_points.append([x, y, z])\n",
    "                            reachable_config.append(pose)\n",
    "                        else:\n",
    "                            unreachable_points.append([x, y, z])\n",
    "                    pbar.update(1)\n",
    "                    # progress += 1\n",
    "                    # print(\"Progress: \", progress/(len(x_range) * len(y_range) * len(z_range)))\n",
    "\n",
    "    return reachable_points, unreachable_points, reachable_config\n",
    "\n",
    "def plot_reachability(reachable_points, unreachable_points):\n",
    "    # Create a 3D plot\n",
    "    fig = plt.figure()\n",
    "    ax = fig.add_subplot(111, projection='3d')\n",
    "\n",
    "    # Convert lists to numpy arrays for easier plotting\n",
    "    reachable_points = np.array(reachable_points)\n",
    "    unreachable_points = np.array(unreachable_points)\n",
    "\n",
    "    # Plot reachable points in green\n",
    "    if len(reachable_points) > 0:\n",
    "        ax.scatter(reachable_points[:, 0], reachable_points[:, 1], reachable_points[:, 2], color='green', label='Reachable', s=5)\n",
    "\n",
    "    # Plot unreachable points in red\n",
    "    if len(unreachable_points) > 0:\n",
    "        ax.scatter(unreachable_points[:, 0], unreachable_points[:, 1], unreachable_points[:, 2], color='red', label='Unreachable', s=5)\n",
    "\n",
    "    # Set plot labels and title\n",
    "    ax.set_xlabel('X')\n",
    "    ax.set_ylabel('Y')\n",
    "    ax.set_zlabel('Z')\n",
    "    ax.set_title('3D Reachability Plot')\n",
    "    ax.legend()\n",
    "\n",
    "    plt.show()"
   ]
  },
  {
   "cell_type": "code",
   "execution_count": 41,
   "id": "5365a2f1",
   "metadata": {},
   "outputs": [
    {
     "name": "stderr",
     "output_type": "stream",
     "text": [
      "Overall Progress:   0%|          | 0/100 [00:00<?, ?it/s]2024-10-30 00:48:30,626 Timor INFO IK failed to converge.\n",
      "Overall Progress:   1%|          | 1/100 [00:01<01:51,  1.13s/it]2024-10-30 00:48:31,728 Timor INFO IK failed to converge.\n",
      "Overall Progress:   2%|▏         | 2/100 [00:02<01:49,  1.11s/it]2024-10-30 00:48:33,32 Timor INFO IK failed to converge.\n",
      "Overall Progress:   3%|▎         | 3/100 [00:03<01:56,  1.20s/it]2024-10-30 00:48:34,572 Timor INFO IK failed to converge.\n",
      "Overall Progress:   4%|▍         | 4/100 [00:05<02:08,  1.33s/it]2024-10-30 00:48:35,642 Timor INFO IK failed to converge.\n",
      "Overall Progress:   5%|▌         | 5/100 [00:06<01:57,  1.24s/it]2024-10-30 00:48:36,875 Timor INFO IK failed to converge.\n",
      "Overall Progress:   6%|▌         | 6/100 [00:07<01:56,  1.24s/it]2024-10-30 00:48:38,178 Timor INFO IK failed to converge.\n",
      "Overall Progress:   7%|▋         | 7/100 [00:08<01:57,  1.26s/it]2024-10-30 00:48:39,864 Timor INFO IK failed to converge.\n",
      "Overall Progress:   8%|▊         | 8/100 [00:10<02:08,  1.39s/it]2024-10-30 00:48:41,26 Timor INFO IK failed to converge.\n",
      "Overall Progress:   9%|▉         | 9/100 [00:11<02:00,  1.32s/it]2024-10-30 00:48:42,227 Timor INFO IK failed to converge.\n",
      "Overall Progress:  10%|█         | 10/100 [00:12<01:55,  1.29s/it]2024-10-30 00:48:43,668 Timor INFO IK failed to converge.\n",
      "Overall Progress:  11%|█         | 11/100 [00:14<01:58,  1.33s/it]2024-10-30 00:48:45,475 Timor INFO IK failed to converge.\n",
      "Overall Progress:  12%|█▏        | 12/100 [00:15<02:09,  1.48s/it]2024-10-30 00:48:46,586 Timor INFO IK failed to converge.\n",
      "Overall Progress:  13%|█▎        | 13/100 [00:17<01:58,  1.37s/it]2024-10-30 00:48:47,755 Timor INFO IK failed to converge.\n",
      "Overall Progress:  14%|█▍        | 14/100 [00:18<01:52,  1.31s/it]2024-10-30 00:48:49,270 Timor INFO IK failed to converge.\n",
      "Overall Progress:  15%|█▌        | 15/100 [00:19<01:56,  1.37s/it]2024-10-30 00:48:50,857 Timor INFO IK failed to converge.\n",
      "Overall Progress:  16%|█▌        | 16/100 [00:21<02:00,  1.43s/it]2024-10-30 00:48:51,995 Timor INFO IK failed to converge.\n",
      "Overall Progress:  17%|█▋        | 17/100 [00:22<01:51,  1.35s/it]2024-10-30 00:48:53,163 Timor INFO IK failed to converge.\n",
      "Overall Progress:  18%|█▊        | 18/100 [00:23<01:45,  1.29s/it]2024-10-30 00:48:54,280 Timor INFO IK failed to converge.\n",
      "Overall Progress:  19%|█▉        | 19/100 [00:24<01:40,  1.24s/it]2024-10-30 00:48:55,910 Timor INFO IK failed to converge.\n",
      "Overall Progress:  20%|██        | 20/100 [00:26<01:48,  1.36s/it]2024-10-30 00:48:57,0 Timor INFO IK failed to converge.\n",
      "Overall Progress:  21%|██        | 21/100 [00:27<01:40,  1.28s/it]2024-10-30 00:48:58,206 Timor INFO IK failed to converge.\n",
      "Overall Progress:  22%|██▏       | 22/100 [00:28<01:37,  1.26s/it]2024-10-30 00:48:59,338 Timor INFO IK failed to converge.\n",
      "Overall Progress:  23%|██▎       | 23/100 [00:29<01:33,  1.22s/it]2024-10-30 00:49:00,881 Timor INFO IK failed to converge.\n",
      "Overall Progress:  24%|██▍       | 24/100 [00:31<01:39,  1.32s/it]2024-10-30 00:49:01,839 Timor INFO IK failed to converge.\n",
      "Overall Progress:  25%|██▌       | 25/100 [00:32<01:30,  1.21s/it]2024-10-30 00:49:03,22 Timor INFO IK failed to converge.\n",
      "Overall Progress:  26%|██▌       | 26/100 [00:33<01:28,  1.20s/it]2024-10-30 00:49:04,139 Timor INFO IK failed to converge.\n",
      "Overall Progress:  27%|██▋       | 27/100 [00:34<01:25,  1.18s/it]2024-10-30 00:49:06,44 Timor INFO IK failed to converge.\n",
      "Overall Progress:  28%|██▊       | 28/100 [00:36<01:40,  1.39s/it]2024-10-30 00:49:07,139 Timor INFO IK failed to converge.\n",
      "Overall Progress:  29%|██▉       | 29/100 [00:37<01:32,  1.30s/it]2024-10-30 00:49:08,468 Timor INFO IK failed to converge.\n",
      "Overall Progress:  30%|███       | 30/100 [00:38<01:31,  1.31s/it]2024-10-30 00:49:09,795 Timor INFO IK failed to converge.\n",
      "Overall Progress:  31%|███       | 31/100 [00:40<01:30,  1.32s/it]2024-10-30 00:49:11,754 Timor INFO IK failed to converge.\n",
      "Overall Progress:  32%|███▏      | 32/100 [00:42<01:42,  1.51s/it]2024-10-30 00:49:12,898 Timor INFO IK failed to converge.\n",
      "Overall Progress:  33%|███▎      | 33/100 [00:43<01:33,  1.40s/it]2024-10-30 00:49:13,939 Timor INFO IK failed to converge.\n",
      "Overall Progress:  34%|███▍      | 34/100 [00:44<01:25,  1.29s/it]2024-10-30 00:49:15,184 Timor INFO IK failed to converge.\n",
      "Overall Progress:  35%|███▌      | 35/100 [00:45<01:23,  1.28s/it]2024-10-30 00:49:16,913 Timor INFO IK failed to converge.\n",
      "Overall Progress:  36%|███▌      | 36/100 [00:47<01:30,  1.41s/it]2024-10-30 00:49:17,925 Timor INFO IK failed to converge.\n",
      "Overall Progress:  37%|███▋      | 37/100 [00:48<01:21,  1.29s/it]2024-10-30 00:49:19,131 Timor INFO IK failed to converge.\n",
      "Overall Progress:  38%|███▊      | 38/100 [00:49<01:18,  1.27s/it]2024-10-30 00:49:20,388 Timor INFO IK failed to converge.\n",
      "Overall Progress:  39%|███▉      | 39/100 [00:50<01:17,  1.26s/it]2024-10-30 00:49:22,121 Timor INFO IK failed to converge.\n",
      "Overall Progress:  40%|████      | 40/100 [00:52<01:24,  1.40s/it]2024-10-30 00:49:23,247 Timor INFO IK failed to converge.\n",
      "Overall Progress:  41%|████      | 41/100 [00:53<01:17,  1.32s/it]2024-10-30 00:49:24,299 Timor INFO IK failed to converge.\n",
      "Overall Progress:  42%|████▏     | 42/100 [00:54<01:11,  1.24s/it]2024-10-30 00:49:25,504 Timor INFO IK failed to converge.\n",
      "Overall Progress:  43%|████▎     | 43/100 [00:56<01:10,  1.23s/it]2024-10-30 00:49:27,278 Timor INFO IK failed to converge.\n",
      "Overall Progress:  44%|████▍     | 44/100 [00:57<01:18,  1.39s/it]2024-10-30 00:49:28,501 Timor INFO IK failed to converge.\n",
      "Overall Progress:  45%|████▌     | 45/100 [00:59<01:13,  1.34s/it]2024-10-30 00:49:29,672 Timor INFO IK failed to converge.\n",
      "Overall Progress:  46%|████▌     | 46/100 [01:00<01:09,  1.29s/it]2024-10-30 00:49:31,288 Timor INFO IK failed to converge.\n",
      "Overall Progress:  47%|████▋     | 47/100 [01:01<01:13,  1.39s/it]2024-10-30 00:49:33,147 Timor INFO IK failed to converge.\n",
      "Overall Progress:  48%|████▊     | 48/100 [01:03<01:19,  1.53s/it]2024-10-30 00:49:34,321 Timor INFO IK failed to converge.\n",
      "Overall Progress:  49%|████▉     | 49/100 [01:04<01:12,  1.42s/it]2024-10-30 00:49:35,565 Timor INFO IK failed to converge.\n",
      "Overall Progress:  50%|█████     | 50/100 [01:06<01:08,  1.37s/it]2024-10-30 00:49:37,450 Timor INFO IK failed to converge.\n",
      "Overall Progress:  51%|█████     | 51/100 [01:07<01:14,  1.52s/it]2024-10-30 00:49:39,656 Timor INFO IK failed to converge.\n",
      "Overall Progress:  52%|█████▏    | 52/100 [01:10<01:22,  1.73s/it]2024-10-30 00:49:40,810 Timor INFO IK failed to converge.\n",
      "Overall Progress:  53%|█████▎    | 53/100 [01:11<01:13,  1.56s/it]2024-10-30 00:49:41,871 Timor INFO IK failed to converge.\n",
      "Overall Progress:  54%|█████▍    | 54/100 [01:12<01:04,  1.41s/it]2024-10-30 00:49:43,720 Timor INFO IK failed to converge.\n",
      "Overall Progress:  55%|█████▌    | 55/100 [01:14<01:09,  1.54s/it]2024-10-30 00:49:45,581 Timor INFO IK failed to converge.\n",
      "Overall Progress:  56%|█████▌    | 56/100 [01:16<01:12,  1.64s/it]2024-10-30 00:49:46,766 Timor INFO IK failed to converge.\n",
      "Overall Progress:  57%|█████▋    | 57/100 [01:17<01:04,  1.50s/it]2024-10-30 00:49:47,873 Timor INFO IK failed to converge.\n",
      "Overall Progress:  58%|█████▊    | 58/100 [01:18<00:58,  1.38s/it]2024-10-30 00:49:49,175 Timor INFO IK failed to converge.\n",
      "Overall Progress:  59%|█████▉    | 59/100 [01:19<00:55,  1.36s/it]2024-10-30 00:49:50,778 Timor INFO IK failed to converge.\n",
      "Overall Progress:  60%|██████    | 60/100 [01:21<00:57,  1.43s/it]2024-10-30 00:49:51,742 Timor INFO IK failed to converge.\n",
      "Overall Progress:  61%|██████    | 61/100 [01:22<00:50,  1.29s/it]2024-10-30 00:49:52,830 Timor INFO IK failed to converge.\n",
      "Overall Progress:  62%|██████▏   | 62/100 [01:23<00:46,  1.23s/it]2024-10-30 00:49:54,162 Timor INFO IK failed to converge.\n",
      "Overall Progress:  63%|██████▎   | 63/100 [01:24<00:46,  1.26s/it]2024-10-30 00:49:56,109 Timor INFO IK failed to converge.\n",
      "Overall Progress:  64%|██████▍   | 64/100 [01:26<00:52,  1.47s/it]2024-10-30 00:49:57,172 Timor INFO IK failed to converge.\n",
      "Overall Progress:  65%|██████▌   | 65/100 [01:27<00:47,  1.35s/it]2024-10-30 00:49:58,534 Timor INFO IK failed to converge.\n",
      "Overall Progress:  66%|██████▌   | 66/100 [01:29<00:45,  1.35s/it]2024-10-30 00:50:00,148 Timor INFO IK failed to converge.\n",
      "Overall Progress:  67%|██████▋   | 67/100 [01:30<00:47,  1.43s/it]2024-10-30 00:50:01,736 Timor INFO IK failed to converge.\n",
      "Overall Progress:  68%|██████▊   | 68/100 [01:32<00:47,  1.48s/it]2024-10-30 00:50:02,955 Timor INFO IK failed to converge.\n",
      "Overall Progress:  69%|██████▉   | 69/100 [01:33<00:43,  1.40s/it]2024-10-30 00:50:06,299 Timor INFO IK failed to converge.\n",
      "Overall Progress:  70%|███████   | 70/100 [01:36<00:59,  1.98s/it]2024-10-30 00:50:09,801 Timor INFO IK failed to converge.\n",
      "Overall Progress:  71%|███████   | 71/100 [01:40<01:10,  2.44s/it]2024-10-30 00:50:13,367 Timor INFO IK failed to converge.\n",
      "Overall Progress:  72%|███████▏  | 72/100 [01:43<01:17,  2.78s/it]2024-10-30 00:50:14,451 Timor INFO IK failed to converge.\n",
      "Overall Progress:  73%|███████▎  | 73/100 [01:44<01:01,  2.27s/it]2024-10-30 00:50:15,552 Timor INFO IK failed to converge.\n",
      "Overall Progress:  74%|███████▍  | 74/100 [01:46<00:49,  1.92s/it]2024-10-30 00:50:17,443 Timor INFO IK failed to converge.\n",
      "Overall Progress:  75%|███████▌  | 75/100 [01:47<00:47,  1.91s/it]2024-10-30 00:50:19,522 Timor INFO IK failed to converge.\n",
      "Overall Progress:  76%|███████▌  | 76/100 [01:50<00:47,  1.96s/it]2024-10-30 00:50:20,547 Timor INFO IK failed to converge.\n",
      "Overall Progress:  77%|███████▋  | 77/100 [01:51<00:38,  1.68s/it]2024-10-30 00:50:21,773 Timor INFO IK failed to converge.\n",
      "Overall Progress:  78%|███████▊  | 78/100 [01:52<00:33,  1.54s/it]2024-10-30 00:50:23,63 Timor INFO IK failed to converge.\n",
      "Overall Progress:  79%|███████▉  | 79/100 [01:53<00:30,  1.47s/it]2024-10-30 00:50:24,703 Timor INFO IK failed to converge.\n",
      "Overall Progress:  80%|████████  | 80/100 [01:55<00:30,  1.52s/it]2024-10-30 00:50:25,842 Timor INFO IK failed to converge.\n",
      "Overall Progress:  81%|████████  | 81/100 [01:56<00:26,  1.41s/it]2024-10-30 00:50:27,2 Timor INFO IK failed to converge.\n",
      "Overall Progress:  82%|████████▏ | 82/100 [01:57<00:23,  1.33s/it]2024-10-30 00:50:28,46 Timor INFO IK failed to converge.\n",
      "Overall Progress:  83%|████████▎ | 83/100 [01:58<00:21,  1.25s/it]2024-10-30 00:50:29,606 Timor INFO IK failed to converge.\n",
      "Overall Progress:  84%|████████▍ | 84/100 [02:00<00:21,  1.34s/it]2024-10-30 00:50:30,621 Timor INFO IK failed to converge.\n",
      "Overall Progress:  85%|████████▌ | 85/100 [02:01<00:18,  1.24s/it]2024-10-30 00:50:31,701 Timor INFO IK failed to converge.\n",
      "Overall Progress:  86%|████████▌ | 86/100 [02:02<00:16,  1.19s/it]2024-10-30 00:50:33,199 Timor INFO IK failed to converge.\n",
      "Overall Progress:  87%|████████▋ | 87/100 [02:03<00:16,  1.29s/it]2024-10-30 00:50:34,746 Timor INFO IK failed to converge.\n",
      "Overall Progress:  88%|████████▊ | 88/100 [02:05<00:16,  1.36s/it]2024-10-30 00:50:35,793 Timor INFO IK failed to converge.\n",
      "Overall Progress:  89%|████████▉ | 89/100 [02:06<00:13,  1.27s/it]2024-10-30 00:50:37,24 Timor INFO IK failed to converge.\n",
      "Overall Progress:  90%|█████████ | 90/100 [02:07<00:12,  1.26s/it]2024-10-30 00:50:38,570 Timor INFO IK failed to converge.\n",
      "Overall Progress:  91%|█████████ | 91/100 [02:09<00:12,  1.34s/it]2024-10-30 00:50:40,88 Timor INFO IK failed to converge.\n",
      "Overall Progress:  92%|█████████▏| 92/100 [02:10<00:11,  1.40s/it]2024-10-30 00:50:41,188 Timor INFO IK failed to converge.\n",
      "Overall Progress:  93%|█████████▎| 93/100 [02:11<00:09,  1.31s/it]2024-10-30 00:50:42,281 Timor INFO IK failed to converge.\n",
      "Overall Progress:  94%|█████████▍| 94/100 [02:12<00:07,  1.24s/it]2024-10-30 00:50:43,817 Timor INFO IK failed to converge.\n",
      "Overall Progress:  95%|█████████▌| 95/100 [02:14<00:06,  1.33s/it]2024-10-30 00:50:45,436 Timor INFO IK failed to converge.\n",
      "Overall Progress:  96%|█████████▌| 96/100 [02:15<00:05,  1.42s/it]2024-10-30 00:50:46,588 Timor INFO IK failed to converge.\n",
      "Overall Progress:  97%|█████████▋| 97/100 [02:17<00:04,  1.34s/it]2024-10-30 00:50:47,643 Timor INFO IK failed to converge.\n",
      "Overall Progress:  98%|█████████▊| 98/100 [02:18<00:02,  1.25s/it]2024-10-30 00:50:49,19 Timor INFO IK failed to converge.\n",
      "Overall Progress:  99%|█████████▉| 99/100 [02:19<00:01,  1.29s/it]2024-10-30 00:50:50,444 Timor INFO IK failed to converge.\n",
      "Overall Progress: 100%|██████████| 100/100 [02:20<00:00,  1.41s/it]"
     ]
    },
    {
     "name": "stdout",
     "output_type": "stream",
     "text": [
      "Reachable space %:  0.08\n"
     ]
    },
    {
     "name": "stderr",
     "output_type": "stream",
     "text": [
      "\n"
     ]
    },
    {
     "data": {
      "image/png": "[encoded data removed]",
      "text/plain": [
       "<Figure size 640x480 with 1 Axes>"
      ]
     },
     "metadata": {},
     "output_type": "display_data"
    }
   ],
   "source": [
    "space_dimensions = [2.0, 2.0, 2.0]\n",
    "reachable_points, unreachable_points, reachable_configs = check_reachable_cubes(long_robot, space_dimensions, 0.5, 0.1)\n",
    "print(\"Reachable space %: \", len(reachable_points) / (len(reachable_points) + len(unreachable_points)))\n",
    "plot_reachability(reachable_points, unreachable_points)"
   ]
  },
  {
   "cell_type": "code",
   "execution_count": 45,
   "id": "f89adca0",
   "metadata": {},
   "outputs": [
    {
     "name": "stdout",
     "output_type": "stream",
     "text": [
      "Reachable space %:  0.08\n",
      "[[0.0, 0.0, 0.0], [0.0, 0.0, 0.5], [0.5, -0.5, 0.0], [0.5, -0.5, 0.5], [0.5, 0.5, 0.0], [0.5, 0.5, 0.5], [1.0, 0.0, 0.0], [1.0, 0.0, 0.5]]\n",
      "[[ 0.762 -0.292 -0.578  0.026]\n",
      " [-0.606 -0.636 -0.478 -0.003]\n",
      " [-0.228  0.715 -0.661  0.026]\n",
      " [ 0.     0.     0.     1.   ]]\n",
      "[ 0.02556117 -0.0027914   0.02596296]\n",
      "Distance:  0.03654094409676476\n",
      "[[ 0.566 -0.287 -0.773 -0.044]\n",
      " [-0.287  0.811 -0.511 -0.   ]\n",
      " [ 0.773  0.511  0.377  0.535]\n",
      " [ 0.     0.     0.     1.   ]]\n",
      "[-4.40779830e-02 -4.29336777e-09  5.34605386e-01]\n",
      "Distance:  0.056039283583132524\n",
      "[[ 0.33   0.816  0.476  0.499]\n",
      " [ 0.803  0.023 -0.596 -0.479]\n",
      " [-0.497  0.578 -0.647  0.033]\n",
      " [ 0.     0.     0.     1.   ]]\n",
      "[ 0.49855265 -0.47919536  0.03303042]\n",
      "Distance:  0.03906323825100459\n",
      "[[ 0.811  0.287  0.511  0.5  ]\n",
      " [ 0.287  0.566 -0.773 -0.544]\n",
      " [-0.511  0.773  0.377  0.535]\n",
      " [ 0.     0.     0.     1.   ]]\n",
      "[ 0.49999985 -0.54407766  0.53460635]\n",
      "Distance:  0.05603962219609124\n",
      "[[ 0.165 -0.862  0.48   0.503]\n",
      " [-0.789  0.177  0.588  0.478]\n",
      " [-0.592 -0.476 -0.651  0.031]\n",
      " [ 0.     0.     0.     1.   ]]\n",
      "[0.5027227  0.47793488 0.03114135]\n",
      "Distance:  0.038263121473698404\n",
      "[[ 0.811 -0.287  0.511  0.5  ]\n",
      " [-0.287  0.566  0.773  0.544]\n",
      " [-0.511 -0.773  0.377  0.535]\n",
      " [ 0.     0.     0.     1.   ]]\n",
      "[0.50000031 0.54407774 0.53460611]\n",
      "Distance:  0.056039537253755864\n",
      "[[ 0.633 -0.506  0.586  0.977]\n",
      " [-0.774 -0.414  0.479  0.002]\n",
      " [ 0.    -0.756 -0.654  0.029]\n",
      " [ 0.     0.     0.     1.   ]]\n",
      "[0.97683358 0.00243475 0.02949444]\n",
      "Distance:  0.03758368524049592\n",
      "[[ 0.561 -0.279  0.779  1.045]\n",
      " [-0.303  0.807  0.507 -0.003]\n",
      " [-0.77  -0.521  0.369  0.531]\n",
      " [ 0.     0.     0.     1.   ]]\n",
      "[ 1.04539876 -0.00297303  0.53064151]\n",
      "Distance:  0.05485242372555371\n"
     ]
    }
   ],
   "source": [
    "print(\"Reachable space %: \", len(reachable_points) / (len(reachable_points) + len(unreachable_points)))\n",
    "print(reachable_points)\n",
    "for i in range(len(reachable_configs)):\n",
    "    end_eff = long_robot.fk(reachable_configs[i], collision = True, visual = True)\n",
    "    print(end_eff)\n",
    "    target_point = np.array(reachable_points[i])\n",
    "    actual_point = np.array([end_eff[0][3], end_eff[1][3], end_eff[2][3]])\n",
    "    print(actual_point)\n",
    "    distance = np.linalg.norm(target_point - actual_point)\n",
    "    print(\"Distance: \", distance)"
   ]
  }
 ],
 "metadata": {
  "kernelspec": {
   "display_name": "timor-env",
   "language": "python",
   "name": "python3"
  },
  "language_info": {
   "codemirror_mode": {
    "name": "ipython",
    "version": 3
   },
   "file_extension": ".py",
   "mimetype": "text/x-python",
   "name": "python",
   "nbconvert_exporter": "python",
   "pygments_lexer": "ipython3",
   "version": "3.10.15"
  }
 },
 "nbformat": 4,
 "nbformat_minor": 5
}
