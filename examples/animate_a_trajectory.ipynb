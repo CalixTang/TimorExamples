{
 "cells": [
  {
   "cell_type": "markdown",
   "id": "eddb3214-64fb-4912-a879-c06418bb81ff",
   "metadata": {},
   "source": [
    "# Make your robot move: Generate a Video"
   ]
  },
  {
   "cell_type": "markdown",
   "id": "9f976dd9-cc4f-4130-933a-a74e6d46d717",
   "metadata": {},
   "source": [
    "In this notebook, we are going to generate a short video for a random robot movement you can watch in your browser.\n",
    "\n",
    "First of all, we need some modules. You can create some simple modules built from geometric primitives yourself - there is a distinct tutorial to that purpose. If you don't want to, we can use the set of simple modules provided with the timor source code:"
   ]
  },
  {
   "cell_type": "code",
   "execution_count": 1,
   "id": "a67e4d4d-33b5-42f6-8f95-648124867aa3",
   "metadata": {},
   "outputs": [
    {
     "name": "stderr",
     "output_type": "stream",
     "text": [
      "2024-10-19 23:58:53,543 Timor INFO Loading custom configurations from /home/mscsim/.config/timor.config\n"
     ]
    }
   ],
   "source": [
    "from pathlib import Path\n",
    "\n",
    "# provide your own filepaths if you already did the module generation tutorial:\n",
    "your_modules_json = Path('')\n",
    "your_assets_directory = Path('')\n",
    "\n",
    "if your_modules_json == Path(''):\n",
    "    from timor.utilities.file_locations import get_module_db_files\n",
    "    modules_file = get_module_db_files('geometric_primitive_modules')"
   ]
  },
  {
   "cell_type": "markdown",
   "id": "b994624a-daa0-4ad7-b5d2-9060391f5ab5",
   "metadata": {},
   "source": [
    "Let's get to the heart of it, the video generation. A short explanation of what is going to happen:\n",
    "- The Module set is loaded from the files provided\n",
    "- We define a chain of modules that are being assembled to a robot\n",
    "- The robot is brough in a random position and we interpolate movement to another random position"
   ]
  },
  {
   "cell_type": "code",
   "execution_count": 6,
   "id": "fdad6ede-6956-4d5e-b288-695b9bae384c",
   "metadata": {},
   "outputs": [
    {
     "name": "stdout",
     "output_type": "stream",
     "text": [
      "You can open the visualizer by visiting the following URL:\n",
      "http://127.0.0.1:7004/static/\n"
     ]
    },
    {
     "data": {
      "text/plain": [
       "<timor.utilities.visualization.MeshcatVisualizerWithAnimation at 0x7fcb73eb9c60>"
      ]
     },
     "execution_count": 6,
     "metadata": {},
     "output_type": "execute_result"
    }
   ],
   "source": [
    "import numpy as np\n",
    "from timor.Module import *\n",
    "from timor.utilities.visualization import animation\n",
    "\n",
    "db = ModulesDB.from_json_file(modules_file)\n",
    "modules = ('base', 'J2', 'i_45', 'J2', 'J2', 'eef')\n",
    "A = ModuleAssembly.from_serial_modules(db, modules)\n",
    "robot = A.to_pin_robot()\n",
    "q0 = np.zeros((robot.dof,))\n",
    "q1 = robot.random_configuration()\n",
    "trajectory = np.linspace(q0, q1)\n",
    "animation(robot, trajectory, dt=.1)"
   ]
  },
  {
   "cell_type": "markdown",
   "id": "1f1cde89-5d9f-43f7-8eda-1f4a38dd2c3a",
   "metadata": {},
   "source": [
    "Note that at no point, we check whether the movement we provide is actually possible! In fact, self-collisions are pretty likely given tha trajectory we have chosen is just random. Still, it is going to be visualized - you could stop the movie when a collision appears, but that's up to you. For development, it might be pretty useful to see everything, even if it would not be possible in the real world!"
   ]
  },
  {
   "cell_type": "markdown",
   "id": "ad635cf0-695c-496b-b4af-459d27b356a7",
   "metadata": {},
   "source": [
    "## Save your video\n",
    "You can also save the video as a local file. Before you do so, make sure _ffmpeg_ is installed on your system.\n",
    "\n",
    "First, create an animation (you could also use the one from above):"
   ]
  },
  {
   "cell_type": "code",
   "execution_count": 3,
   "id": "55f15230-d2a2-430c-8234-a4c99949610f",
   "metadata": {},
   "outputs": [
    {
     "name": "stdout",
     "output_type": "stream",
     "text": [
      "You can open the visualizer by visiting the following URL:\n",
      "http://127.0.0.1:7003/static/\n"
     ]
    },
    {
     "data": {
      "text/plain": [
       "<timor.utilities.visualization.MeshcatVisualizerWithAnimation at 0x7fcb73f8da20>"
      ]
     },
     "execution_count": 3,
     "metadata": {},
     "output_type": "execute_result"
    }
   ],
   "source": [
    "q2 = np.array([np.pi, -np.pi/2, np.pi/2])\n",
    "new_trajectory = np.linspace(q1, q2)\n",
    "animation(robot, new_trajectory, .1)"
   ]
  },
  {
   "cell_type": "markdown",
   "id": "db563989-4d3d-421f-bf8d-d8549914c903",
   "metadata": {},
   "source": [
    "Now it's your turn: **Download the video** from the meshcat visualizer. On the sidebar under \"Animations\" -> \"Recording\" -> \"record\" you get a .tar file to download. Specify it's location on your local PC in the next cell. (do not change the format option to jpeg)\n",
    "\n",
    "![record_button](img/video_download.png)"
   ]
  },
  {
   "cell_type": "code",
   "execution_count": 7,
   "id": "b4333fdc-22f8-4f03-a15e-6ad20b6a93a5",
   "metadata": {},
   "outputs": [],
   "source": [
    "your_video_file = 'meshcat_17.tar'  # TODO: Enter your file location here\n",
    "your_output_path = 'animate_a_trajectory.mp4'  # TODO: Enter your file location here"
   ]
  },
  {
   "cell_type": "code",
   "execution_count": 8,
   "id": "0c7b4873-6ec3-4fb2-ba9c-a663f403f04c",
   "metadata": {},
   "outputs": [
    {
     "name": "stderr",
     "output_type": "stream",
     "text": [
      "ffmpeg: error while loading shared libraries: libopenh264.so.5: cannot open shared object file: No such file or directory\n"
     ]
    },
    {
     "name": "stdout",
     "output_type": "stream",
     "text": [
      "\n",
      "Could not call `ffmpeg` to convert your frames into a video.\n",
      "If you want to convert the frames manually, you can extract the\n",
      ".tar archive into a directory, cd to that directory, and run:\n",
      "ffmpeg -r 60 -i %07d.png \\\n",
      "\t -vcodec libx264 \\\n",
      "\t -preset slow \\\n",
      "\t -crf 18 \\\n",
      "\t output.mp4\n",
      "                \n"
     ]
    },
    {
     "ename": "CalledProcessError",
     "evalue": "Command '['ffmpeg', '-r', '60', '-i', '%07d.png', '-vcodec', 'libx264', '-preset', 'slow', '-crf', '18', '-y', '/home/mscsim/MobileManipulation/TimorExamples/examples/animate_a_trajectory.mp4']' returned non-zero exit status 127.",
     "output_type": "error",
     "traceback": [
      "\u001b[0;31m---------------------------------------------------------------------------\u001b[0m",
      "\u001b[0;31mCalledProcessError\u001b[0m                        Traceback (most recent call last)",
      "Cell \u001b[0;32mIn[8], line 4\u001b[0m\n\u001b[1;32m      1\u001b[0m \u001b[38;5;28;01mfrom\u001b[39;00m \u001b[38;5;21;01mmeshcat\u001b[39;00m\u001b[38;5;21;01m.\u001b[39;00m\u001b[38;5;21;01manimation\u001b[39;00m \u001b[38;5;28;01mimport\u001b[39;00m convert_frames_to_video\n\u001b[1;32m      3\u001b[0m \u001b[38;5;66;03m# You can adapt the settings, but be aware that ffmpeg may have trouble dealing with low framerates\u001b[39;00m\n\u001b[0;32m----> 4\u001b[0m \u001b[43mconvert_frames_to_video\u001b[49m\u001b[43m(\u001b[49m\u001b[43myour_video_file\u001b[49m\u001b[43m,\u001b[49m\u001b[43m \u001b[49m\u001b[43myour_output_path\u001b[49m\u001b[43m,\u001b[49m\u001b[43m \u001b[49m\u001b[43mframerate\u001b[49m\u001b[38;5;241;43m=\u001b[39;49m\u001b[38;5;241;43m60\u001b[39;49m\u001b[43m,\u001b[49m\u001b[43m \u001b[49m\u001b[43moverwrite\u001b[49m\u001b[38;5;241;43m=\u001b[39;49m\u001b[38;5;28;43;01mTrue\u001b[39;49;00m\u001b[43m)\u001b[49m\n",
      "File \u001b[0;32m~/anaconda3/envs/timor-env/lib/python3.10/site-packages/meshcat/animation.py:150\u001b[0m, in \u001b[0;36mconvert_frames_to_video\u001b[0;34m(tar_file_path, output_path, framerate, overwrite)\u001b[0m\n\u001b[1;32m    148\u001b[0m         args\u001b[38;5;241m.\u001b[39mappend(output_path)\n\u001b[1;32m    149\u001b[0m         \u001b[38;5;28;01mtry\u001b[39;00m:\n\u001b[0;32m--> 150\u001b[0m             \u001b[43msubprocess\u001b[49m\u001b[38;5;241;43m.\u001b[39;49m\u001b[43mcheck_call\u001b[49m\u001b[43m(\u001b[49m\u001b[43margs\u001b[49m\u001b[43m,\u001b[49m\u001b[43m \u001b[49m\u001b[43mcwd\u001b[49m\u001b[38;5;241;43m=\u001b[39;49m\u001b[43mtmp_dir\u001b[49m\u001b[43m)\u001b[49m\n\u001b[1;32m    151\u001b[0m         \u001b[38;5;28;01mexcept\u001b[39;00m subprocess\u001b[38;5;241m.\u001b[39mCalledProcessError \u001b[38;5;28;01mas\u001b[39;00m e:\n\u001b[1;32m    152\u001b[0m             \u001b[38;5;28mprint\u001b[39m(\u001b[38;5;124m\"\"\"\u001b[39m\n\u001b[1;32m    153\u001b[0m \u001b[38;5;124mCould not call `ffmpeg` to convert your frames into a video.\u001b[39m\n\u001b[1;32m    154\u001b[0m \u001b[38;5;124mIf you want to convert the frames manually, you can extract the\u001b[39m\n\u001b[1;32m    155\u001b[0m \u001b[38;5;124m.tar archive into a directory, cd to that directory, and run:\u001b[39m\n\u001b[1;32m    156\u001b[0m \u001b[38;5;124mffmpeg -r 60 -i \u001b[39m\u001b[38;5;132;01m%07d\u001b[39;00m\u001b[38;5;124m.png \u001b[39m\u001b[38;5;130;01m\\\\\u001b[39;00m\u001b[38;5;130;01m\\n\u001b[39;00m\u001b[38;5;130;01m\\t\u001b[39;00m\u001b[38;5;124m -vcodec libx264 \u001b[39m\u001b[38;5;130;01m\\\\\u001b[39;00m\u001b[38;5;130;01m\\n\u001b[39;00m\u001b[38;5;130;01m\\t\u001b[39;00m\u001b[38;5;124m -preset slow \u001b[39m\u001b[38;5;130;01m\\\\\u001b[39;00m\u001b[38;5;130;01m\\n\u001b[39;00m\u001b[38;5;130;01m\\t\u001b[39;00m\u001b[38;5;124m -crf 18 \u001b[39m\u001b[38;5;130;01m\\\\\u001b[39;00m\u001b[38;5;130;01m\\n\u001b[39;00m\u001b[38;5;130;01m\\t\u001b[39;00m\u001b[38;5;124m output.mp4\u001b[39m\n\u001b[1;32m    157\u001b[0m \u001b[38;5;124m                \u001b[39m\u001b[38;5;124m\"\"\"\u001b[39m)\n",
      "File \u001b[0;32m~/anaconda3/envs/timor-env/lib/python3.10/subprocess.py:369\u001b[0m, in \u001b[0;36mcheck_call\u001b[0;34m(*popenargs, **kwargs)\u001b[0m\n\u001b[1;32m    367\u001b[0m     \u001b[38;5;28;01mif\u001b[39;00m cmd \u001b[38;5;129;01mis\u001b[39;00m \u001b[38;5;28;01mNone\u001b[39;00m:\n\u001b[1;32m    368\u001b[0m         cmd \u001b[38;5;241m=\u001b[39m popenargs[\u001b[38;5;241m0\u001b[39m]\n\u001b[0;32m--> 369\u001b[0m     \u001b[38;5;28;01mraise\u001b[39;00m CalledProcessError(retcode, cmd)\n\u001b[1;32m    370\u001b[0m \u001b[38;5;28;01mreturn\u001b[39;00m \u001b[38;5;241m0\u001b[39m\n",
      "\u001b[0;31mCalledProcessError\u001b[0m: Command '['ffmpeg', '-r', '60', '-i', '%07d.png', '-vcodec', 'libx264', '-preset', 'slow', '-crf', '18', '-y', '/home/mscsim/MobileManipulation/TimorExamples/examples/animate_a_trajectory.mp4']' returned non-zero exit status 127."
     ]
    }
   ],
   "source": [
    "from meshcat.animation import convert_frames_to_video\n",
    "\n",
    "# You can adapt the settings, but be aware that ffmpeg may have trouble dealing with low framerates\n",
    "#convert_frames_to_video(your_video_file, your_output_path, framerate=60, overwrite=True)\n"
   ]
  },
  {
   "cell_type": "code",
   "execution_count": null,
   "id": "7a1bf11e-02ff-4649-bc59-6442339583c6",
   "metadata": {},
   "outputs": [],
   "source": []
  }
 ],
 "metadata": {
  "kernelspec": {
   "display_name": "timor-env",
   "language": "python",
   "name": "python3"
  },
  "language_info": {
   "codemirror_mode": {
    "name": "ipython",
    "version": 3
   },
   "file_extension": ".py",
   "mimetype": "text/x-python",
   "name": "python",
   "nbconvert_exporter": "python",
   "pygments_lexer": "ipython3",
   "version": "3.10.15"
  }
 },
 "nbformat": 4,
 "nbformat_minor": 5
}
