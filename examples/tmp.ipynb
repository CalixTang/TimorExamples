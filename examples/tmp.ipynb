{
 "cells": [
  {
   "cell_type": "code",
   "execution_count": 8,
   "metadata": {},
   "outputs": [],
   "source": [
    "import timor\n",
    "from timor.utilities import prebuilt_robots"
   ]
  },
  {
   "cell_type": "code",
   "execution_count": 9,
   "metadata": {},
   "outputs": [
    {
     "name": "stdout",
     "output_type": "stream",
     "text": [
      "[1.57079633 1.57079633 1.57079633 1.57079633 1.57079633 1.57079633]\n"
     ]
    }
   ],
   "source": [
    "default_robot = prebuilt_robots.get_six_axis_modrob()  # We provide a simple robot built from geometric primitives\n",
    "print(default_robot.configuration)\n"
   ]
  },
  {
   "cell_type": "code",
   "execution_count": 10,
   "metadata": {},
   "outputs": [
    {
     "name": "stdout",
     "output_type": "stream",
     "text": [
      "You can open the visualizer by visiting the following URL:\n",
      "http://127.0.0.1:7001/static/\n"
     ]
    }
   ],
   "source": [
    "viz = default_robot.visualize()"
   ]
  },
  {
   "cell_type": "code",
   "execution_count": 11,
   "metadata": {},
   "outputs": [
    {
     "name": "stdout",
     "output_type": "stream",
     "text": [
      "[1.57079633 1.57079633 1.57079633 1.57079633 1.57079633 1.57079633]\n",
      "<class 'timor.Robot.PinRobot'>\n"
     ]
    }
   ],
   "source": [
    "import numpy as np\n",
    "\n",
    "q = default_robot.q\n",
    "print(q)\n",
    "q[-2] = -np.pi / 3  # Move the second-last joint\n",
    "default_robot.update_configuration(q, geometry=True)\n",
    "viz.updatePlacements(timor.visualization.VISUAL)  # We need to tell the visualizer to update\n",
    "print(type(default_robot))"
   ]
  },
  {
   "cell_type": "code",
   "execution_count": null,
   "metadata": {},
   "outputs": [],
   "source": [
    "viz.viewer.jupyter_cell(height=800)\n",
    "\n"
   ]
  }
 ],
 "metadata": {
  "kernelspec": {
   "display_name": "timor_test_env",
   "language": "python",
   "name": "python3"
  },
  "language_info": {
   "codemirror_mode": {
    "name": "ipython",
    "version": 3
   },
   "file_extension": ".py",
   "mimetype": "text/x-python",
   "name": "python",
   "nbconvert_exporter": "python",
   "pygments_lexer": "ipython3",
   "version": "3.10.15"
  }
 },
 "nbformat": 4,
 "nbformat_minor": 2
}
