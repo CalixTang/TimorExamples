{
 "cells": [
  {
   "cell_type": "code",
   "execution_count": 2,
   "id": "b82d2271-7cff-46c6-9402-202af38cb1c5",
   "metadata": {},
   "outputs": [],
   "source": [
    "from timor.Bodies import Body, Connector, Gender\n",
    "from timor.Joints import Joint\n",
    "from timor.Module import AtomicModule, ModulesDB, ModuleHeader\n",
    "import xml.etree.ElementTree as ET\n",
    "import numpy as np\n",
    "from timor.Robot import PinRobot, RobotBase\n",
    "from pathlib import Path\n",
    "import pinocchio as pin\n",
    "from timor.Geometry import Box, ComposedGeometry, Cylinder, Sphere\n",
    "from timor.utilities.transformation import Transformation\n",
    "\n",
    "from timor.utilities.spatial import rotX, rotY, rotZ"
   ]
  },
  {
   "cell_type": "code",
   "execution_count": 3,
   "id": "e6e6842a-d50b-42d0-85b8-59993f81489c",
   "metadata": {},
   "outputs": [],
   "source": [
    "\n",
    "density = 1200  # kg / m3 estimated overall material density\n",
    "inner_diameter = 60 / 1000  # assume the links are hollow, with 5cm thick walls\n",
    "\n",
    "def cylinder_mass(l: float, r: float, r_inner: float = 0) -> float:\n",
    "    \"\"\"Calculates the mass of a (hollow) cylinder\"\"\"\n",
    "    mass = density * l * np.pi * r ** 2\n",
    "    hollow_mass = density * l * np.pi * r_inner ** 2\n",
    "    return mass - hollow_mass\n",
    "\n",
    "\n",
    "def cylinder_inertia(l: float, r: float, r_inner: float = 0):\n",
    "    \"\"\"Calculates the inertia of a (hollow) cylinder, assuming a centered coordinate system\"\"\"\n",
    "    mass = cylinder_mass(l, r, r_inner)\n",
    "    lever = np.asarray([0, 0, 0])\n",
    "    I = np.zeros((3, 3))\n",
    "    I[0, 0] = (1 / 12) * mass * (3 * (r_inner ** 2 + r ** 2) + l ** 2)\n",
    "    I[1, 1] = I[0, 0]\n",
    "    I[2, 2] = .5 * mass * (r_inner ** 2 + r ** 2)\n",
    "\n",
    "    return pin.Inertia(mass, lever, I)"
   ]
  },
  {
   "cell_type": "code",
   "execution_count": 16,
   "id": "1b8e3b7f-8d8d-4b38-9b54-77df7a7fdbed",
   "metadata": {},
   "outputs": [],
   "source": [
    "from timor.Geometry import Mesh\n",
    "\n",
    "\n",
    "\n",
    "sizes = (150 / 1000, 300 / 1000, 450 / 1000)  # we are going to build links in various lengths (sizes) [m]\n",
    "diameter = 80 / 1000  # the diameter of our links [m]\n",
    "ROT_X = Transformation.from_rotation(rotX(np.pi)[:3, :3])  # A shortcut we are going to use frequently\n",
    "ROT_Y = Transformation.from_rotation(rotY(np.pi / 2)[:3, :3])\n",
    "\n",
    "stl_path_1 = \"./assets/Assem_4310_BASE/Assem_4310_BASE/meshes/base_motor_link.STL\"\n",
    "geometry1 = Mesh({\"file\": stl_path_1})\n",
    "stl_path_2 = \"./assets/Assem_4310_BASE/Assem_4310_BASE/meshes/base_out_link.STL\"\n",
    "geometry2 = Mesh({\"file\": stl_path_2})\n",
    "\n",
    "geo1_connector1 = Connector( connector_id = \"geo1_connector_1\", #create a unique id for connector\n",
    "                      parent = None, #the parent body for this connector. will be assigned later if attached to body later\n",
    "                      gender=Gender.f, #Gender.f, Gender.m, or Gender.h. Defaults to hermaphroditic\n",
    "                      connector_type='default', #defines the type of connector. optional\n",
    "                      size=[diameter]) #defines the \"size\" of the connector. completely optional\n",
    "geo1_connector2 = Connector( connector_id = \"geo1_connector_2\", #create a unique id for connector\n",
    "                      parent = None, #the parent body for this connector. will be assigned later if attached to body later\n",
    "                      gender=Gender.m, #Gender.f, Gender.m, or Gender.h. Defaults to hermaphroditic\n",
    "                      connector_type='default', #defines the type of connector. optional\n",
    "                      size=[diameter]) #defines the \"size\" of the connector. completely optional\n",
    "\n",
    "geo2_connector1 = Connector( connector_id = \"geo2_connector_1\", #create a unique id for connector\n",
    "                      parent = None, #the parent body for this connector. will be assigned later if attached to body later\n",
    "                      gender=Gender.f, #Gender.f, Gender.m, or Gender.h. Defaults to hermaphroditic\n",
    "                      connector_type='default', #defines the type of connector. optional\n",
    "                      size=[diameter]) #defines the \"size\" of the connector. completely optional\n",
    "\n",
    "geo2_connector2 = Connector( connector_id = \"geo2_connector_2\", #create a unique id for connector\n",
    "                      parent = None, #the parent body for this connector. will be assigned later if attached to body later\n",
    "                      gender=Gender.m, #Gender.f, Gender.m, or Gender.h. Defaults to hermaphroditic\n",
    "                      connector_type='default', #defines the type of connector. optional\n",
    "                      size=[diameter]) #defines the \"size\" of the connector. completely optional\n",
    "body1 = Body(body_id = \"test_body_1\", #create a unique id for this component\n",
    "            collision = geometry1, #the collision hitbox uses a Geometry instance\n",
    "            visual = geometry1, #specifies the Geometry to use for visualizing. Will default to collision.\n",
    "            connectors = [geo1_connector1, geo1_connector2], #defines what connectors are on this body\n",
    "            inertia = cylinder_inertia(sizes[0], diameter / 2, inner_diameter / 2), #define the inertia (pinocchio object)\n",
    "            in_module = None #define what module this body is in. updated automatically if body is added to module later \n",
    "            )\n",
    "body2 = Body(body_id = \"test_body_2\", #create a unique id for this component\n",
    "            collision = geometry2, #the collision hitbox uses a Geometry instance\n",
    "            visual = geometry2, #specifies the Geometry to use for visualizing. Will default to collision.\n",
    "            connectors = [geo2_connector1, geo2_connector2], #defines what connectors are on this body\n",
    "            inertia = cylinder_inertia(sizes[1], diameter / 2, inner_diameter / 2), #define the inertia (pinocchio object)\n",
    "            in_module = None #define what module this body is in. updated automatically if body is added to module later \n",
    "            )\n",
    "\n",
    "joint = Joint(joint_id = \"joint_1\", #create a unique id for this component\n",
    "              parent_body = body1, #every joint links a parent body to a child body\n",
    "              child_body = body2, #every joint links a parent body to a child body\n",
    "              in_module = None,\n",
    "              q_limits = (-np.pi, np.pi), #the numerical range for this joint\n",
    "              torque_limit= np.inf,\n",
    "              velocity_limit = np.inf,\n",
    "              acceleration_limit = np.inf,\n",
    "              parent2joint = Transformation.neutral(), #transformation between base frame of parent link and this joint \n",
    "              joint2child = ROT_Y @ Transformation.from_translation([0, 0, sizes[1] / 2]), #transformation between this joint and child link\n",
    "              joint_type = \"revolute\"\n",
    "              )"
   ]
  },
  {
   "cell_type": "code",
   "execution_count": 17,
   "id": "d7f7bf42-4e0c-4995-ac83-fd486a971be4",
   "metadata": {},
   "outputs": [
    {
     "name": "stdout",
     "output_type": "stream",
     "text": [
      "{('T-link', 'test_body_2', 'geo2_connector_2'): <timor.Bodies.Connector object at 0x7fb1eb4453c0>, ('T-link', 'test_body_2', 'geo2_connector_1'): <timor.Bodies.Connector object at 0x7fb1eaffef80>, ('T-link', 'test_body_1', 'geo1_connector_1'): <timor.Bodies.Connector object at 0x7fb227d57ee0>, ('T-link', 'test_body_1', 'geo1_connector_2'): <timor.Bodies.Connector object at 0x7fb1eb474400>}\n"
     ]
    }
   ],
   "source": [
    "#create a module\n",
    "from datetime import datetime\n",
    "module_header = ModuleHeader(ID='T-link',\n",
    "                                 name='T Link Module',\n",
    "                                 date=datetime(2024, 12, 7),\n",
    "                                 author=['Calix Tang'],\n",
    "                                 email=['calix@berkeley.edu'],\n",
    "                                 affiliation=['UC Berkeley']\n",
    "                                 )\n",
    "\n",
    "# https://timor-python.readthedocs.io/en/latest/autoapi/timor/Module/index.html\n",
    "t_link_module = AtomicModule(module_header, #module header definition\n",
    "                             bodies = (body1, body2), #add all bodies\n",
    "                             joints = [joint] #add all joints\n",
    "                             )\n",
    "\n",
    "print(t_link_module.available_connectors)"
   ]
  },
  {
   "cell_type": "code",
   "execution_count": 18,
   "id": "8055fedc-45b8-4e1d-b993-77dc84599364",
   "metadata": {},
   "outputs": [
    {
     "name": "stdout",
     "output_type": "stream",
     "text": [
      "You can open the visualizer by visiting the following URL:\n",
      "http://127.0.0.1:7002/static/\n"
     ]
    },
    {
     "data": {
      "text/plain": [
       "<pinocchio.visualize.meshcat_visualizer.MeshcatVisualizer at 0x7fb1eafff3a0>"
      ]
     },
     "execution_count": 18,
     "metadata": {},
     "output_type": "execute_result"
    }
   ],
   "source": [
    "#Create a ModulesDB - a collection of unique modules. For now, we only have 1.\n",
    "db = ModulesDB([t_link_module])\n",
    "db.debug_visualization()"
   ]
  },
  {
   "cell_type": "code",
   "execution_count": 28,
   "id": "8ba06f45-a683-4b99-a326-3a0a3a7790f5",
   "metadata": {},
   "outputs": [
    {
     "ename": "SyntaxError",
     "evalue": "invalid syntax. Perhaps you forgot a comma? (2001984271.py, line 57)",
     "output_type": "error",
     "traceback": [
      "\u001b[0;36m  Cell \u001b[0;32mIn[28], line 57\u001b[0;36m\u001b[0m\n\u001b[0;31m    parent2joint=from_roto_translation(R=[0,0,0],\u001b[0m\n\u001b[0m                 ^\u001b[0m\n\u001b[0;31mSyntaxError\u001b[0m\u001b[0;31m:\u001b[0m invalid syntax. Perhaps you forgot a comma?\n"
     ]
    }
   ],
   "source": [
    "from timor.Geometry import Mesh\n",
    "\n",
    "\n",
    "def create_body_with_stl(name: str, stl_path: str, connector_name: str) -> Body:\n",
    "    \"\"\"\n",
    "    Create a Body object in timor using an STL file for collision and visual geometry.\n",
    "\n",
    "    Args:\n",
    "        name (str): Name of the body.\n",
    "        stl_path (str): Path to the STL file.\n",
    "        connector_name (str): Name of the connector.\n",
    "\n",
    "    Returns:\n",
    "        Body: A Body object with the STL-based geometry.\n",
    "    \"\"\"\n",
    "    # Define the collision and visual geometry using the STL file\n",
    "    stl_geometry = Mesh({\"file\": stl_path})\n",
    "\n",
    "\n",
    "\n",
    "    \n",
    "    # # Create dummy bodies for demonstration\n",
    "    diameter = 80 / 1000  # the diameter of our links [m]\n",
    "    length = 150 / 1000\n",
    "    # Create the body using the STL geometry\n",
    "    trans = Transformation.from_translation([0, 0, 0]) \n",
    "    body = Body(\n",
    "        body_id=name,\n",
    "        collision=stl_geometry,\n",
    "        connectors=[Connector(f'J2_distal+{name}',\n",
    "                                        trans,\n",
    "                                        gender=Gender.m,\n",
    "                                        connector_type='default',\n",
    "                                        size=[diameter])],\n",
    "        inertia=cylinder_inertia(length, diameter / 2, inner_diameter / 2)  # Optionally specify inertia if available\n",
    "    )\n",
    "\n",
    "    return body\n",
    "\n",
    "length = 150 / 1000\n",
    "# Example usage\n",
    "parent_stl_file_path = \"./assets/Assem_4310_BASE/Assem_4310_BASE/meshes/base_motor_link.STL\"\n",
    "child_stl_file_path = \"./assets/Assem_4310_BASE/Assem_4310_BASE/meshes/base_out_link.STL\"\n",
    "parent = create_body_with_stl(\"base_motor_link\", parent_stl_file_path, \"base_connector\")\n",
    "child = create_body_with_stl(\"base_out_link\", child_stl_file_path, \"out\")\n",
    "\n",
    "\n",
    "joint = Joint(\n",
    "    joint_id='Revolute',\n",
    "    joint_type='revolute',\n",
    "    parent_body=parent,\n",
    "    child_body=child,\n",
    "    q_limits=np.array([-np.pi, np.pi]),\n",
    "    torque_limit=1000,\n",
    "    acceleration_limit=5,\n",
    "    velocity_limit=10,\n",
    "    parent2joint=Transformation.from_roto_translation(R=[0,0,0],\n",
    "                                       p=[0, 1, 0])\n",
    "    joint2child=Transformation.from_translation([0, 0.05, 0])\n",
    ")\n",
    "\n",
    "    \n",
    "# Module header\n",
    "module_header = ModuleHeader(\n",
    "    ID=\"R\",\n",
    "    name=\"RJ\",\n",
    "    date=\"2024-12-04\",\n",
    "    author=[\"Generated by URDF to Timor\"],\n",
    "    email=[\"support@example.com\"],\n",
    "    affiliation=[\"Automated Conversion\"]\n",
    ")\n",
    "\n",
    "# Return as a ModulesDB\n",
    "\n",
    "timor_modules = ModulesDB({AtomicModule(module_header, [parent, child], [joint])})\n",
    "timor_modules.debug_visualization()\n",
    "print(timor_modules)\n"
   ]
  }
 ],
 "metadata": {
  "kernelspec": {
   "display_name": "Python 3 (ipykernel)",
   "language": "python",
   "name": "python3"
  },
  "language_info": {
   "codemirror_mode": {
    "name": "ipython",
    "version": 3
   },
   "file_extension": ".py",
   "mimetype": "text/x-python",
   "name": "python",
   "nbconvert_exporter": "python",
   "pygments_lexer": "ipython3",
   "version": "3.10.15"
  }
 },
 "nbformat": 4,
 "nbformat_minor": 5
}
