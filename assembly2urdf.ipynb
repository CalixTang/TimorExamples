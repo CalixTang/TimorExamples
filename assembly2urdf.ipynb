{
 "cells": [
  {
   "cell_type": "markdown",
   "id": "f1d5a7104d192b57",
   "metadata": {},
   "source": [
    "This demo shows how to export a module assembly to an STL file, e.g., for 3D printing, editing, subtracting from 3D scenes, etc. This is done via trimesh which also offers additional editing, export, etc. functionality as stated in their documentation."
   ]
  },
  {
   "cell_type": "code",
   "execution_count": 1,
   "id": "4c587db688bff5c4",
   "metadata": {},
   "outputs": [
    {
     "name": "stderr",
     "output_type": "stream",
     "text": [
      "2024-10-04 14:01:22,979 Timor INFO Loading custom configurations from /home/calix/.config/timor.config\n"
     ]
    }
   ],
   "source": [
    "import numpy as np\n",
    "from numpy import pi\n",
    "\n",
    "from timor import ModuleAssembly, ModulesDB"
   ]
  },
  {
   "cell_type": "code",
   "execution_count": 3,
   "id": "6cc3b0b12f0a6731",
   "metadata": {},
   "outputs": [
    {
     "name": "stderr",
     "output_type": "stream",
     "text": [
      "2024-10-04 14:04:09,385 Timor WARNING No collision model given for body 1\n",
      "2024-10-04 14:04:09,386 Timor WARNING EmptyGeometry does not use parameters, but they were given.\n"
     ]
    },
    {
     "name": "stdout",
     "output_type": "stream",
     "text": [
      "You can open the visualizer by visiting the following URL:\n",
      "http://127.0.0.1:7004/static/\n"
     ]
    },
    {
     "data": {
      "text/plain": [
       "<pinocchio.visualize.meshcat_visualizer.MeshcatVisualizer at 0x78fbd2317eb0>"
      ]
     },
     "execution_count": 3,
     "metadata": {},
     "output_type": "execute_result"
    }
   ],
   "source": [
    "db = ModulesDB.from_name('IMPROV')\n",
    "# Create assembly and set configuration\n",
    "a = ModuleAssembly.from_serial_modules(db, ['1', '21', '4', '21', '15', '22', '5', '23', '12'])\n",
    "a.robot.update_configuration(np.array((0, pi / 7, -2 * pi / 7, 0, -pi / 7, 0, pi / 10, 0)))\n",
    "a.robot.visualize()  # Check location/configuration"
   ]
  },
  {
   "cell_type": "code",
   "execution_count": 4,
   "id": "initial_id",
   "metadata": {},
   "outputs": [
    {
     "name": "stderr",
     "output_type": "stream",
     "text": [
      "2024-10-04 14:04:30,554 Timor WARNING File STLfiles/L1.stl does not exist.\n",
      "2024-10-04 14:04:30,554 Timor WARNING File STLfiles/convexDecompose/L1.stl.wrl does not exist.\n",
      "2024-10-04 14:04:30,555 Timor WARNING File STLfiles/L9.stl does not exist.\n",
      "2024-10-04 14:04:30,556 Timor WARNING File STLfiles/convexDecompose/L9.stl.wrl does not exist.\n",
      "2024-10-04 14:04:30,557 Timor WARNING File STLfiles/L2.stl does not exist.\n",
      "2024-10-04 14:04:30,557 Timor WARNING File STLfiles/convexDecompose/L2.stl.wrl does not exist.\n",
      "2024-10-04 14:04:30,558 Timor WARNING File STLfiles/L3.stl does not exist.\n",
      "2024-10-04 14:04:30,559 Timor WARNING File STLfiles/convexDecompose/L3.stl.wrl does not exist.\n"
     ]
    }
   ],
   "source": [
    "# Freeze as trimesh and export\n",
    "import pathlib\n",
    "tri = a.to_urdf('robot', pathlib.Path('./improv_long.urdf'), handle_missing_assets='warning')"
   ]
  },
  {
   "cell_type": "markdown",
   "id": "9c0a11cb227117eb",
   "metadata": {},
   "source": [
    "You can now open this file in a 3D editor, 3D printer slicer, or similar, s.a., meshlab."
   ]
  }
 ],
 "metadata": {
  "kernelspec": {
   "display_name": "Python 3",
   "language": "python",
   "name": "python3"
  },
  "language_info": {
   "codemirror_mode": {
    "name": "ipython",
    "version": 3
   },
   "file_extension": ".py",
   "mimetype": "text/x-python",
   "name": "python",
   "nbconvert_exporter": "python",
   "pygments_lexer": "ipython3",
   "version": "3.10.15"
  }
 },
 "nbformat": 4,
 "nbformat_minor": 5
}
